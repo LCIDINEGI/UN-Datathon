{
  "nbformat": 4,
  "nbformat_minor": 0,
  "metadata": {
    "colab": {
      "provenance": []
    },
    "kernelspec": {
      "name": "python3",
      "display_name": "Python 3"
    },
    "language_info": {
      "name": "python"
    }
  },
  "cells": [
    {
      "cell_type": "code",
      "execution_count": 1,
      "metadata": {
        "id": "RplNKSDrumiX"
      },
      "outputs": [],
      "source": [
        "import ee\n",
        "import time\n",
        "import geemap\n",
        "import ipywidgets as widgets"
      ]
    },
    {
      "cell_type": "code",
      "source": [
        "ee.Authenticate()"
      ],
      "metadata": {
        "colab": {
          "base_uri": "https://localhost:8080/",
          "height": 176
        },
        "id": "yvbL49jruvU6",
        "outputId": "0280b3ae-16a0-4644-a671-5c4860b4055c"
      },
      "execution_count": 2,
      "outputs": [
        {
          "output_type": "display_data",
          "data": {
            "text/plain": [
              "<IPython.core.display.HTML object>"
            ],
            "text/html": [
              "\n",
              "            <style>\n",
              "                .geemap-dark {\n",
              "                    --jp-widgets-color: white;\n",
              "                    --jp-widgets-label-color: white;\n",
              "                    --jp-ui-font-color1: white;\n",
              "                    --jp-layout-color2: #454545;\n",
              "                    background-color: #383838;\n",
              "                }\n",
              "                    \n",
              "                .geemap-dark .jupyter-button {\n",
              "                    --jp-layout-color3: #383838;\n",
              "                }\n",
              "                \n",
              "                .geemap-colab {\n",
              "                    background-color: var(--colab-primary-surface-color, white);\n",
              "                }\n",
              "                    \n",
              "                .geemap-colab .jupyter-button {\n",
              "                    --jp-layout-color3: var(--colab-primary-surface-color, white);\n",
              "                }\n",
              "            </style>\n",
              "            "
            ]
          },
          "metadata": {}
        },
        {
          "output_type": "stream",
          "name": "stdout",
          "text": [
            "To authorize access needed by Earth Engine, open the following URL in a web browser and follow the instructions. If the web browser does not start automatically, please manually browse the URL below.\n",
            "\n",
            "    https://code.earthengine.google.com/client-auth?scopes=https%3A//www.googleapis.com/auth/earthengine%20https%3A//www.googleapis.com/auth/devstorage.full_control&request_id=DPyte9_MQAAKTfDb0xXFEKheObfFIx9rvgh1ILbuCfc&tc=SCOgPJSuYniJ5Y_m2dg5K-MV1dGNGqmxdCMotH0hApw&cc=CmWwbK6WI8-g3aGKXjpi8kd59eCX68OU91JoLrdfEoA\n",
            "\n",
            "The authorization workflow will generate a code, which you should paste in the box below.\n",
            "Enter verification code: 4/1AfJohXkCFZ7D9QInfEny2p6Cbfj1N1AAPlj4aG40dwMCLW2_a_C4KwCGmFg\n",
            "\n",
            "Successfully saved authorization token.\n"
          ]
        }
      ]
    },
    {
      "cell_type": "code",
      "source": [
        "ee.Initialize()"
      ],
      "metadata": {
        "colab": {
          "base_uri": "https://localhost:8080/",
          "height": 17
        },
        "id": "sAcXaEJ48lo0",
        "outputId": "c6306a1d-da47-43c0-9d35-e9f4ad369b62"
      },
      "execution_count": 3,
      "outputs": [
        {
          "output_type": "display_data",
          "data": {
            "text/plain": [
              "<IPython.core.display.HTML object>"
            ],
            "text/html": [
              "\n",
              "            <style>\n",
              "                .geemap-dark {\n",
              "                    --jp-widgets-color: white;\n",
              "                    --jp-widgets-label-color: white;\n",
              "                    --jp-ui-font-color1: white;\n",
              "                    --jp-layout-color2: #454545;\n",
              "                    background-color: #383838;\n",
              "                }\n",
              "                    \n",
              "                .geemap-dark .jupyter-button {\n",
              "                    --jp-layout-color3: #383838;\n",
              "                }\n",
              "                \n",
              "                .geemap-colab {\n",
              "                    background-color: var(--colab-primary-surface-color, white);\n",
              "                }\n",
              "                    \n",
              "                .geemap-colab .jupyter-button {\n",
              "                    --jp-layout-color3: var(--colab-primary-surface-color, white);\n",
              "                }\n",
              "            </style>\n",
              "            "
            ]
          },
          "metadata": {}
        }
      ]
    },
    {
      "cell_type": "code",
      "source": [
        "## function to mask clouds\n",
        "def maskClouds(image):\n",
        "    # Select the QA60 band\n",
        "    QA60 = image.select(['QA60'])\n",
        "\n",
        "    # Bits 10 and 11 are cloud and cirrus bits, set all others to 0\n",
        "    cloud_mask = QA60.bitwiseAnd(1 << 10).eq(0).And(QA60.bitwiseAnd(1 << 11).eq(0))\n",
        "\n",
        "    # Update the image mask to exclude cloudy and shadowed pixels\n",
        "    return image.updateMask(cloud_mask).divide(10000)\n",
        "\n",
        "def addBands(image):\n",
        "    return image.addBands(image.normalizedDifference(['B8','B4']).rename('NDVI'))\\\n",
        "      .addBands(image.normalizedDifference(['B3','B8']).rename('NDWI'))\\\n",
        "      .addBands(image.normalizedDifference(['B8','B12']).rename('NDWI2'))\\\n",
        "      .addBands(image.normalizedDifference(['B11','B8']).rename('NDBI'))\\\n",
        "      .addBands(image.expression('((B4+B11)-(B8+B2))/((B4+B11)+(B8+B2))',{'B2':image.select('B2'),'B8':image.select('B8'),'B4':image.select('B4'),'B11':image.select('B11')}).rename('NDBSI'))\\\n",
        "      .addBands(image.expression('(B4 + 0.3)/(B3 + B11)',{'B3':image.select('B3'),'B4':image.select('B4'),'B11':image.select('B11')}).rename('BAEI'))\\\n",
        "      .addBands(image.expression('(2.5*(B8-B4))/(1+B8+(6*B4)-(7.5*B2))',{'B8':image.select('B8'),'B4':image.select('B4'),'B2':image.select('B2')}).rename('EVI'))\n",
        "\n",
        "def addBands2(image):\n",
        "    return image.addBands(image.expression('NDBI-NDVI',{'NDBI':image.select('NDBI'),'NDVI':image.select('NDVI')}).rename('BUI'))\n"
      ],
      "metadata": {
        "colab": {
          "base_uri": "https://localhost:8080/",
          "height": 17
        },
        "id": "uPPt9ZQQwgxW",
        "outputId": "e28e4d4f-9fbb-4bd3-922e-cadca6384488"
      },
      "execution_count": 4,
      "outputs": [
        {
          "output_type": "display_data",
          "data": {
            "text/plain": [
              "<IPython.core.display.HTML object>"
            ],
            "text/html": [
              "\n",
              "            <style>\n",
              "                .geemap-dark {\n",
              "                    --jp-widgets-color: white;\n",
              "                    --jp-widgets-label-color: white;\n",
              "                    --jp-ui-font-color1: white;\n",
              "                    --jp-layout-color2: #454545;\n",
              "                    background-color: #383838;\n",
              "                }\n",
              "                    \n",
              "                .geemap-dark .jupyter-button {\n",
              "                    --jp-layout-color3: #383838;\n",
              "                }\n",
              "                \n",
              "                .geemap-colab {\n",
              "                    background-color: var(--colab-primary-surface-color, white);\n",
              "                }\n",
              "                    \n",
              "                .geemap-colab .jupyter-button {\n",
              "                    --jp-layout-color3: var(--colab-primary-surface-color, white);\n",
              "                }\n",
              "            </style>\n",
              "            "
            ]
          },
          "metadata": {}
        }
      ]
    },
    {
      "cell_type": "code",
      "source": [
        "## this function computes different characteristics for each polygon contained in the dataset\n",
        "## after the hurricane, adds the label 'status' to classify later other objects\n",
        "def medianReducer(image):\n",
        "    result = image.reduceRegion(\n",
        "        reducer = ee.Reducer.median(), scale = 10, maxPixels = 1e9, bestEffort = True\n",
        "    )\n",
        "    return result\n",
        "def getCharacteristics(feature):\n",
        "    coords = feature.geometry()\n",
        "    image2 = ee.Image(ee.ImageCollection('COPERNICUS/S2_SR_HARMONIZED')\n",
        "                    .filterDate('2023-10-25', '2023-11-03')\n",
        "                    .select(['B4','B3','B2','B8','B11','B12','QA60'])\n",
        "                    .filter(ee.Filter.lt('CLOUDY_PIXEL_PERCENTAGE', 90))\n",
        "                    .map(maskClouds)\n",
        "                    .median()).clip(coords)\n",
        "    image2 = addBands(image2)\n",
        "    image2 = addBands2(image2)\n",
        "\n",
        "    clipped = image2\n",
        "\n",
        "    b4 = medianReducer(clipped.select(['B4']))\n",
        "    b3 = medianReducer(clipped.select(['B3']))\n",
        "    b2 = medianReducer(clipped.select(['B2']))\n",
        "    b8 = medianReducer(clipped.select(['B8']))\n",
        "    b11 = medianReducer(clipped.select(['B11']))\n",
        "    b12 = medianReducer(clipped.select(['B12']))\n",
        "    ndvi = medianReducer(clipped.select(['NDVI']))\n",
        "    ndwi = medianReducer(clipped.select(['NDWI']))\n",
        "    ndwi2 = medianReducer(clipped.select(['NDWI2']))\n",
        "    ndbi = medianReducer(clipped.select(['NDBI']))\n",
        "    ndbsi = medianReducer(clipped.select(['NDBSI']))\n",
        "    baei = medianReducer(clipped.select(['BAEI']))\n",
        "    evi = medianReducer(clipped.select(['EVI']))\n",
        "    bui = medianReducer(clipped.select(['BUI']))\n",
        "\n",
        "    return ee.Feature(coords,ee.Dictionary({'B4': b4.get('B4'),'B3': b3.get('B3'),'B2': b2.get('B2'),'B8': b8.get('B8'),'B11': b11.get('B11'),'B12': b12.get('B12'),\n",
        "        'NDVI': ndvi.get('NDVI'),'NDWI': ndwi.get('NDWI'),'NDWI2': ndwi2.get('NDWI2'),'NDBI': ndbi.get('NDBI'),'NDBSI': ndbsi.get('NDBSI'),'BAEI': baei.get('BAEI'),\n",
        "        'EVI': evi.get('EVI'),'BUI': bui.get('BUI')}))\n",
        "\n",
        "\n",
        "\n",
        "## function to only export polygons\n",
        "def getPolygons(feature):\n",
        "    return ee.Feature(feature).set('geometry_type', ee.Feature(feature).geometry().type())\n",
        "\n"
      ],
      "metadata": {
        "colab": {
          "base_uri": "https://localhost:8080/",
          "height": 17
        },
        "id": "66kGGjoQ01SL",
        "outputId": "76247306-6f4b-458e-c1dd-87be2dc81412"
      },
      "execution_count": 5,
      "outputs": [
        {
          "output_type": "display_data",
          "data": {
            "text/plain": [
              "<IPython.core.display.HTML object>"
            ],
            "text/html": [
              "\n",
              "            <style>\n",
              "                .geemap-dark {\n",
              "                    --jp-widgets-color: white;\n",
              "                    --jp-widgets-label-color: white;\n",
              "                    --jp-ui-font-color1: white;\n",
              "                    --jp-layout-color2: #454545;\n",
              "                    background-color: #383838;\n",
              "                }\n",
              "                    \n",
              "                .geemap-dark .jupyter-button {\n",
              "                    --jp-layout-color3: #383838;\n",
              "                }\n",
              "                \n",
              "                .geemap-colab {\n",
              "                    background-color: var(--colab-primary-surface-color, white);\n",
              "                }\n",
              "                    \n",
              "                .geemap-colab .jupyter-button {\n",
              "                    --jp-layout-color3: var(--colab-primary-surface-color, white);\n",
              "                }\n",
              "            </style>\n",
              "            "
            ]
          },
          "metadata": {}
        }
      ]
    },
    {
      "cell_type": "code",
      "source": [
        "## previously load ESA's public data for acapulco in EE\n",
        "## Load the shapefile as a FeatureCollection\n",
        "asset1 = 'users/eeranyartrodrigo/datathon/coyuca_benitez_manzanas'\n",
        "data = ee.FeatureCollection(asset1)"
      ],
      "metadata": {
        "colab": {
          "base_uri": "https://localhost:8080/",
          "height": 17
        },
        "id": "peE7SsGvuxpX",
        "outputId": "4527e175-3ba3-498d-fffd-25b3dafe8488"
      },
      "execution_count": 6,
      "outputs": [
        {
          "output_type": "display_data",
          "data": {
            "text/plain": [
              "<IPython.core.display.HTML object>"
            ],
            "text/html": [
              "\n",
              "            <style>\n",
              "                .geemap-dark {\n",
              "                    --jp-widgets-color: white;\n",
              "                    --jp-widgets-label-color: white;\n",
              "                    --jp-ui-font-color1: white;\n",
              "                    --jp-layout-color2: #454545;\n",
              "                    background-color: #383838;\n",
              "                }\n",
              "                    \n",
              "                .geemap-dark .jupyter-button {\n",
              "                    --jp-layout-color3: #383838;\n",
              "                }\n",
              "                \n",
              "                .geemap-colab {\n",
              "                    background-color: var(--colab-primary-surface-color, white);\n",
              "                }\n",
              "                    \n",
              "                .geemap-colab .jupyter-button {\n",
              "                    --jp-layout-color3: var(--colab-primary-surface-color, white);\n",
              "                }\n",
              "            </style>\n",
              "            "
            ]
          },
          "metadata": {}
        }
      ]
    },
    {
      "cell_type": "code",
      "source": [
        "data.first()"
      ],
      "metadata": {
        "colab": {
          "base_uri": "https://localhost:8080/",
          "height": 68
        },
        "id": "IiVDoNxCwjw8",
        "outputId": "c323bbd3-0953-4350-b52d-38812afb64d3"
      },
      "execution_count": 7,
      "outputs": [
        {
          "output_type": "display_data",
          "data": {
            "text/plain": [
              "<IPython.core.display.HTML object>"
            ],
            "text/html": [
              "\n",
              "            <style>\n",
              "                .geemap-dark {\n",
              "                    --jp-widgets-color: white;\n",
              "                    --jp-widgets-label-color: white;\n",
              "                    --jp-ui-font-color1: white;\n",
              "                    --jp-layout-color2: #454545;\n",
              "                    background-color: #383838;\n",
              "                }\n",
              "                    \n",
              "                .geemap-dark .jupyter-button {\n",
              "                    --jp-layout-color3: #383838;\n",
              "                }\n",
              "                \n",
              "                .geemap-colab {\n",
              "                    background-color: var(--colab-primary-surface-color, white);\n",
              "                }\n",
              "                    \n",
              "                .geemap-colab .jupyter-button {\n",
              "                    --jp-layout-color3: var(--colab-primary-surface-color, white);\n",
              "                }\n",
              "            </style>\n",
              "            "
            ]
          },
          "metadata": {}
        },
        {
          "output_type": "execute_result",
          "data": {
            "text/plain": [
              "<ee.element.Element at 0x78db92917ee0>"
            ],
            "text/html": [
              "<div><style>:root {\n",
              "  --font-color-primary: var(--jp-content-font-color0, rgba(0, 0, 0, 1));\n",
              "  --font-color-secondary: var(--jp-content-font-color2, rgba(0, 0, 0, 0.6));\n",
              "  --font-color-accent: rgba(123, 31, 162, 1);\n",
              "  --border-color: var(--jp-border-color2, #e0e0e0);\n",
              "  --background-color: var(--jp-layout-color0, white);\n",
              "  --background-color-row-even: var(--jp-layout-color1, white);\n",
              "  --background-color-row-odd: var(--jp-layout-color2, #eeeeee);\n",
              "}\n",
              "\n",
              "html[theme=\"dark\"],\n",
              "body[data-theme=\"dark\"],\n",
              "body.vscode-dark {\n",
              "  --font-color-primary: rgba(255, 255, 255, 1);\n",
              "  --font-color-secondary: rgba(255, 255, 255, 0.6);\n",
              "  --font-color-accent: rgb(173, 132, 190);\n",
              "  --border-color: #2e2e2e;\n",
              "  --background-color: #111111;\n",
              "  --background-color-row-even: #111111;\n",
              "  --background-color-row-odd: #313131;\n",
              "}\n",
              "\n",
              ".ee {\n",
              "  padding: 1em;\n",
              "  line-height: 1.5em;\n",
              "  min-width: 300px;\n",
              "  max-width: 1200px;\n",
              "  overflow-y: scroll;\n",
              "  max-height: 600px;\n",
              "  border: 1px solid var(--border-color);\n",
              "  font-family: monospace;\n",
              "}\n",
              "\n",
              ".ee li {\n",
              "  list-style-type: none;\n",
              "}\n",
              "\n",
              ".ee ul {\n",
              "  padding-left: 1.5em !important;\n",
              "  margin: 0;\n",
              "}\n",
              "\n",
              ".ee > ul {\n",
              "  padding-left: 0 !important;\n",
              "}\n",
              "\n",
              ".ee-open,\n",
              ".ee-shut {\n",
              "  color: var(--font-color-secondary);\n",
              "  cursor: pointer;\n",
              "  margin: 0;\n",
              "}\n",
              "\n",
              ".ee-open:hover,\n",
              ".ee-shut:hover {\n",
              "  color: var(--font-color-primary);\n",
              "}\n",
              "\n",
              ".ee-k {\n",
              "  color: var(--font-color-accent);\n",
              "  margin-right: 6px;\n",
              "}\n",
              "\n",
              ".ee-v {\n",
              "  color: var(--font-color-primary);\n",
              "}\n",
              "\n",
              ".ee-toggle {\n",
              "  display: none;\n",
              "}\n",
              "\n",
              ".ee-shut + ul {\n",
              "  display: none;\n",
              "}\n",
              "\n",
              ".ee-open + ul {\n",
              "  display: block;\n",
              "}\n",
              "\n",
              ".ee-shut::before {\n",
              "  display: inline-block;\n",
              "  content: \"▼\";\n",
              "  margin-right: 6px;\n",
              "  transform: rotate(-90deg);\n",
              "  transition: transform 0.2s;\n",
              "}\n",
              "\n",
              ".ee-open::before {\n",
              "  transform: rotate(0deg);\n",
              "  display: inline-block;\n",
              "  content: \"▼\";\n",
              "  margin-right: 6px;\n",
              "  transition: transform 0.2s;\n",
              "}\n",
              "</style><div class='ee'><ul><li><label class='ee-shut'>Feature (Polygon, 93 properties)<input type='checkbox' class='ee-toggle'></label><ul><li><span class='ee-k'>type:</span><span class='ee-v'>Feature</span></li><li><span class='ee-k'>id:</span><span class='ee-v'>000000000000000000b8</span></li><li><label class='ee-shut'>geometry: Polygon (8 vertices)<input type='checkbox' class='ee-toggle'></label><ul><li><span class='ee-k'>type:</span><span class='ee-v'>Polygon</span></li><li><label class='ee-shut'>coordinates: List (1 element)<input type='checkbox' class='ee-toggle'></label><ul><li><label class='ee-shut'>0: List (8 elements)<input type='checkbox' class='ee-toggle'></label><ul><li><label class='ee-shut'>0: [-100.08877601857874, 17.005067612844154]<input type='checkbox' class='ee-toggle'></label><ul><li><span class='ee-k'>0:</span><span class='ee-v'>-100.08877601857874</span></li><li><span class='ee-k'>1:</span><span class='ee-v'>17.005067612844154</span></li></ul></li><li><label class='ee-shut'>1: [-100.08871554857664, 17.005062341705166]<input type='checkbox' class='ee-toggle'></label><ul><li><span class='ee-k'>0:</span><span class='ee-v'>-100.08871554857664</span></li><li><span class='ee-k'>1:</span><span class='ee-v'>17.005062341705166</span></li></ul></li><li><label class='ee-shut'>2: [-100.0887266518225, 17.004932512342688]<input type='checkbox' class='ee-toggle'></label><ul><li><span class='ee-k'>0:</span><span class='ee-v'>-100.0887266518225</span></li><li><span class='ee-k'>1:</span><span class='ee-v'>17.004932512342688</span></li></ul></li><li><label class='ee-shut'>3: [-100.0884994626103, 17.004853447904843]<input type='checkbox' class='ee-toggle'></label><ul><li><span class='ee-k'>0:</span><span class='ee-v'>-100.0884994626103</span></li><li><span class='ee-k'>1:</span><span class='ee-v'>17.004853447904843</span></li></ul></li><li><label class='ee-shut'>4: [-100.08848835939321, 17.004987728960366]<input type='checkbox' class='ee-toggle'></label><ul><li><span class='ee-k'>0:</span><span class='ee-v'>-100.08848835939321</span></li><li><span class='ee-k'>1:</span><span class='ee-v'>17.004987728960366</span></li></ul></li><li><label class='ee-shut'>5: [-100.08846154085926, 17.005242809615144]<input type='checkbox' class='ee-toggle'></label><ul><li><span class='ee-k'>0:</span><span class='ee-v'>-100.08846154085926</span></li><li><span class='ee-k'>1:</span><span class='ee-v'>17.005242809615144</span></li></ul></li><li><label class='ee-shut'>6: [-100.0887638050015, 17.005273621372126]<input type='checkbox' class='ee-toggle'></label><ul><li><span class='ee-k'>0:</span><span class='ee-v'>-100.0887638050015</span></li><li><span class='ee-k'>1:</span><span class='ee-v'>17.005273621372126</span></li></ul></li><li><label class='ee-shut'>7: [-100.08877601857874, 17.005067612844154]<input type='checkbox' class='ee-toggle'></label><ul><li><span class='ee-k'>0:</span><span class='ee-v'>-100.08877601857874</span></li><li><span class='ee-k'>1:</span><span class='ee-v'>17.005067612844154</span></li></ul></li></ul></li></ul></li></ul></li><li><label class='ee-shut'>properties: Object (93 properties)<input type='checkbox' class='ee-toggle'></label><ul><li><span class='ee-k'>ACESOAUT_C:</span><span class='ee-v'>9</span></li><li><span class='ee-k'>ACESOAUT_D:</span><span class='ee-v'>No especificado</span></li><li><span class='ee-k'>ACESOPER_C:</span><span class='ee-v'>9</span></li><li><span class='ee-k'>ACESOPER_D:</span><span class='ee-v'>No especificado</span></li><li><span class='ee-k'>ALUMPUB_C:</span><span class='ee-v'>9</span></li><li><span class='ee-k'>ALUMPUB_D:</span><span class='ee-v'>No especificado</span></li><li><span class='ee-k'>AMBITO:</span><span class='ee-v'>Urbana</span></li><li><span class='ee-k'>ARBOLES_C:</span><span class='ee-v'>9</span></li><li><span class='ee-k'>ARBOLES_D:</span><span class='ee-v'>No especificado</span></li><li><span class='ee-k'>BANQUETA_C:</span><span class='ee-v'>9</span></li><li><span class='ee-k'>BANQUETA_D:</span><span class='ee-v'>No especificado</span></li><li><span class='ee-k'>CICLOCAR_C:</span><span class='ee-v'>9</span></li><li><span class='ee-k'>CICLOCAR_D:</span><span class='ee-v'>No especificado</span></li><li><span class='ee-k'>CICLOVIA_C:</span><span class='ee-v'>9</span></li><li><span class='ee-k'>CICLOVIA_D:</span><span class='ee-v'>No especificado</span></li><li><span class='ee-k'>CVEGEO:</span><span class='ee-v'>1202100010287029</span></li><li><span class='ee-k'>CVE_AGEB:</span><span class='ee-v'>0287</span></li><li><span class='ee-k'>CVE_ENT:</span><span class='ee-v'>12</span></li><li><span class='ee-k'>CVE_LOC:</span><span class='ee-v'>0001</span></li><li><span class='ee-k'>CVE_MUN:</span><span class='ee-v'>021</span></li><li><span class='ee-k'>CVE_MZA:</span><span class='ee-v'>029</span></li><li><span class='ee-k'>DRENAJEP_C:</span><span class='ee-v'>9</span></li><li><span class='ee-k'>DRENAJEP_D:</span><span class='ee-v'>No especificado</span></li><li><span class='ee-k'>ESTABICI_C:</span><span class='ee-v'>9</span></li><li><span class='ee-k'>ESTABICI_D:</span><span class='ee-v'>No especificado</span></li><li><span class='ee-k'>FECHA_CEU:</span><span class='ee-v'>2020</span></li><li><span class='ee-k'>FECHA_INF:</span><span class='ee-v'>2020</span></li><li><span class='ee-k'>FECHA_POLI:</span><span class='ee-v'>2020</span></li><li><span class='ee-k'>GRAPROES:</span><span class='ee-v'>0.00</span></li><li><span class='ee-k'>GRAPROES_F:</span><span class='ee-v'>0.00</span></li><li><span class='ee-k'>GRAPROES_M:</span><span class='ee-v'>0.00</span></li><li><span class='ee-k'>GUARNICI_C:</span><span class='ee-v'>9</span></li><li><span class='ee-k'>GUARNICI_D:</span><span class='ee-v'>No especificado</span></li><li><span class='ee-k'>LETRERO_C:</span><span class='ee-v'>9</span></li><li><span class='ee-k'>LETRERO_D:</span><span class='ee-v'>No especificado</span></li><li><span class='ee-k'>NOM_ENT:</span><span class='ee-v'>Guerrero</span></li><li><span class='ee-k'>NOM_LOC:</span><span class='ee-v'>Coyuca de BenÃ­tez</span></li><li><span class='ee-k'>NOM_MUN:</span><span class='ee-v'>Coyuca de BenÃ­tez</span></li><li><span class='ee-k'>P15A29A:</span><span class='ee-v'>0</span></li><li><span class='ee-k'>P15A29A_P:</span><span class='ee-v'>0</span></li><li><span class='ee-k'>P30A59A:</span><span class='ee-v'>0</span></li><li><span class='ee-k'>P30A59A_P:</span><span class='ee-v'>0.00</span></li><li><span class='ee-k'>PARATRAN_C:</span><span class='ee-v'>9</span></li><li><span class='ee-k'>PARATRAN_D:</span><span class='ee-v'>No especificado</span></li><li><span class='ee-k'>PASOPEAT_C:</span><span class='ee-v'>9</span></li><li><span class='ee-k'>PASOPEAT_D:</span><span class='ee-v'>No especificado</span></li><li><span class='ee-k'>POB0_14:</span><span class='ee-v'>0</span></li><li><span class='ee-k'>POB0_14_P:</span><span class='ee-v'>0.00</span></li><li><span class='ee-k'>POBFEM:</span><span class='ee-v'>0</span></li><li><span class='ee-k'>POBMAS:</span><span class='ee-v'>0</span></li><li><span class='ee-k'>POBTOT:</span><span class='ee-v'>0</span></li><li><span class='ee-k'>PPOBFEM:</span><span class='ee-v'>0.00</span></li><li><span class='ee-k'>PPOMAS:</span><span class='ee-v'>0.00</span></li><li><span class='ee-k'>PROM_OCUP:</span><span class='ee-v'>0.00</span></li><li><span class='ee-k'>PRO_OCUP_C:</span><span class='ee-v'>0.00</span></li><li><span class='ee-k'>PUESAMBU_C:</span><span class='ee-v'>9</span></li><li><span class='ee-k'>PUESAMBU_D:</span><span class='ee-v'>No especificado</span></li><li><span class='ee-k'>PUESSEMI_C:</span><span class='ee-v'>9</span></li><li><span class='ee-k'>PUESSEMI_D:</span><span class='ee-v'>No especificado</span></li><li><span class='ee-k'>P_60YMAS:</span><span class='ee-v'>0</span></li><li><span class='ee-k'>P_60YMAS_P:</span><span class='ee-v'>0.00</span></li><li><span class='ee-k'>P_CD_P:</span><span class='ee-v'>0.00</span></li><li><span class='ee-k'>P_CD_T:</span><span class='ee-v'>0</span></li><li><span class='ee-k'>RAMPAS_C:</span><span class='ee-v'>9</span></li><li><span class='ee-k'>RAMPAS_D:</span><span class='ee-v'>No especificado</span></li><li><span class='ee-k'>RECUCALL_C:</span><span class='ee-v'>9</span></li><li><span class='ee-k'>RECUCALL_D:</span><span class='ee-v'>No especificado</span></li><li><span class='ee-k'>SEMAAUDI_C:</span><span class='ee-v'>9</span></li><li><span class='ee-k'>SEMAAUDI_D:</span><span class='ee-v'>No especificado</span></li><li><span class='ee-k'>SEMAPEAT_C:</span><span class='ee-v'>9</span></li><li><span class='ee-k'>SEMAPEAT_D:</span><span class='ee-v'>No especificado</span></li><li><span class='ee-k'>TELPUB_C:</span><span class='ee-v'>9</span></li><li><span class='ee-k'>TELPUB_D:</span><span class='ee-v'>No especificado</span></li><li><span class='ee-k'>TIPOMZA:</span><span class='ee-v'>4</span></li><li><span class='ee-k'>TRANSCOL_C:</span><span class='ee-v'>9</span></li><li><span class='ee-k'>TRANSCOL_D:</span><span class='ee-v'>No especificado</span></li><li><span class='ee-k'>TVIPAHAB:</span><span class='ee-v'>0</span></li><li><span class='ee-k'>TVIPAHAB_P:</span><span class='ee-v'>0.00</span></li><li><span class='ee-k'>V3MASOCU:</span><span class='ee-v'>0</span></li><li><span class='ee-k'>V3MASOCU_P:</span><span class='ee-v'>0.00</span></li><li><span class='ee-k'>VIVNOHAB:</span><span class='ee-v'>0</span></li><li><span class='ee-k'>VIVNOHAB_P:</span><span class='ee-v'>0.00</span></li><li><span class='ee-k'>VIVPAR:</span><span class='ee-v'>0</span></li><li><span class='ee-k'>VIVPAR_P:</span><span class='ee-v'>0</span></li><li><span class='ee-k'>VIVTOT:</span><span class='ee-v'>0</span></li><li><span class='ee-k'>VPH_C_EL:</span><span class='ee-v'>0</span></li><li><span class='ee-k'>VPH_C_EL_P:</span><span class='ee-v'>0.00</span></li><li><span class='ee-k'>VPH_DREN:</span><span class='ee-v'>0</span></li><li><span class='ee-k'>VPH_DREN_P:</span><span class='ee-v'>0.00</span></li><li><span class='ee-k'>VPH_EXSA:</span><span class='ee-v'>0</span></li><li><span class='ee-k'>VPH_EXSA_P:</span><span class='ee-v'>0.00</span></li><li><span class='ee-k'>VPH_PIDT:</span><span class='ee-v'>0</span></li><li><span class='ee-k'>VPH_PIDT_P:</span><span class='ee-v'>0.00</span></li></ul></li></ul></li></ul></div><script>function toggleHeader() {\n",
              "    const parent = this.parentElement;\n",
              "    parent.className = parent.className === \"ee-open\" ? \"ee-shut\" : \"ee-open\";\n",
              "}\n",
              "\n",
              "for (let c of document.getElementsByClassName(\"ee-toggle\")) {\n",
              "    c.onclick = toggleHeader;\n",
              "}</script></div>"
            ]
          },
          "metadata": {},
          "execution_count": 7
        }
      ]
    },
    {
      "cell_type": "code",
      "source": [
        "data_characterized = data.map(getCharacteristics)\n",
        "\n",
        "polygons = data_characterized.map(getPolygons).filter(ee.Filter.equals('geometry_type', 'Polygon'))\n",
        "polygons = ee.FeatureCollection(polygons)\n",
        "\n",
        "params = {\n",
        "  'collection': polygons,\n",
        "  'description': 'coyuca_benitez_characterized_data_python',\n",
        "  'fileFormat': 'SHP',\n",
        "  'folder': 'datathon_training_data_acapulco'\n",
        "}\n",
        "\n",
        "# Export the table to Google Drive\n",
        "task = ee.batch.Export.table.toDrive(**params)\n",
        "task.start()\n",
        "\n",
        "# Monitor the task status\n",
        "while task.status()['state'] in ['READY', 'RUNNING']:\n",
        "    print('Task is', task.status()['state'])\n",
        "    time.sleep(120)  # Optional: Add a delay to reduce API calls frequency\n",
        "\n",
        "# Check if the export was successful\n",
        "if task.status()['state'] == 'COMPLETED':\n",
        "    print('Export completed successfully. Check your Google Drive folder.')\n",
        "else:\n",
        "    print('Export failed: ', task.status()['state'])"
      ],
      "metadata": {
        "colab": {
          "base_uri": "https://localhost:8080/",
          "height": 86
        },
        "id": "2oR_O0Si26sj",
        "outputId": "b5ebee7c-d7b6-4e4e-d2f3-b096a7ec65b0"
      },
      "execution_count": 8,
      "outputs": [
        {
          "output_type": "display_data",
          "data": {
            "text/plain": [
              "<IPython.core.display.HTML object>"
            ],
            "text/html": [
              "\n",
              "            <style>\n",
              "                .geemap-dark {\n",
              "                    --jp-widgets-color: white;\n",
              "                    --jp-widgets-label-color: white;\n",
              "                    --jp-ui-font-color1: white;\n",
              "                    --jp-layout-color2: #454545;\n",
              "                    background-color: #383838;\n",
              "                }\n",
              "                    \n",
              "                .geemap-dark .jupyter-button {\n",
              "                    --jp-layout-color3: #383838;\n",
              "                }\n",
              "                \n",
              "                .geemap-colab {\n",
              "                    background-color: var(--colab-primary-surface-color, white);\n",
              "                }\n",
              "                    \n",
              "                .geemap-colab .jupyter-button {\n",
              "                    --jp-layout-color3: var(--colab-primary-surface-color, white);\n",
              "                }\n",
              "            </style>\n",
              "            "
            ]
          },
          "metadata": {}
        },
        {
          "output_type": "stream",
          "name": "stdout",
          "text": [
            "Task is READY\n",
            "Task is RUNNING\n",
            "Task is RUNNING\n",
            "Export completed successfully. Check your Google Drive folder.\n"
          ]
        }
      ]
    },
    {
      "cell_type": "code",
      "source": [],
      "metadata": {
        "id": "xj-K8mhSr5Ae"
      },
      "execution_count": null,
      "outputs": []
    }
  ]
}