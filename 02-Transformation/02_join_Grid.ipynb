{
 "cells": [
  {
   "cell_type": "markdown",
   "id": "67672673-db9b-4cbd-98ec-2a4af09115ce",
   "metadata": {},
   "source": [
    "<div style='background:#4a565e; padding:5px; margin:0'> \n",
    "    <div style=''>\n",
    "        <img src=\"https://www.inegi.org.mx/img/home/logoinegibco.png\" alt=\"logo inegi\" />\n",
    "    </div>\n",
    "</div>"
   ]
  },
  {
   "cell_type": "markdown",
   "id": "0b24f2c7-6405-4324-8822-aafd0028d248",
   "metadata": {},
   "source": [
    "## Unir información con la malla estadistica"
   ]
  },
  {
   "cell_type": "code",
   "execution_count": null,
   "id": "24c5e6fa-d98b-4ae9-892b-f4f620763c67",
   "metadata": {},
   "outputs": [],
   "source": [
    "import requests\n",
    "import os\n",
    "import zipfile\n",
    "import geopandas as gpd \n",
    "import pandas as pd"
   ]
  },
  {
   "cell_type": "markdown",
   "id": "82aca33f-aaff-41fd-8138-035c330ca4ec",
   "metadata": {},
   "source": [
    "* ruta donde se encuentran los archivos"
   ]
  },
  {
   "cell_type": "code",
   "execution_count": null,
   "id": "e4087f6c-6cc2-4ced-a886-081a0b7b475c",
   "metadata": {},
   "outputs": [],
   "source": [
    "path=\"../01-Data/01_data_geostatistical_grid\""
   ]
  },
  {
   "cell_type": "markdown",
   "id": "07cbe477-d3f3-4dbb-a161-9326158b094f",
   "metadata": {
    "tags": []
   },
   "source": [
    "* Malla geoestadística"
   ]
  },
  {
   "cell_type": "code",
   "execution_count": null,
   "id": "0d3070d8-3490-431a-a63e-bfe31369704e",
   "metadata": {},
   "outputs": [],
   "source": [
    "gdf_malla = gpd.read_file(path+\"/mallaGeo.zip!INEGI_CPV2020_n9_.shp\").to_crs(4326)"
   ]
  },
  {
   "cell_type": "markdown",
   "id": "9c12b6f5-eff4-4a44-bdf9-29e6d370835a",
   "metadata": {},
   "source": [
    "* Copernicus"
   ]
  },
  {
   "cell_type": "code",
   "execution_count": null,
   "id": "73eca901-8548-43c9-bb57-342578f1c143",
   "metadata": {},
   "outputs": [],
   "source": [
    "def CopernicusCPV(gdf_copernicus,field,new_field):\n",
    "  interseccion = gdf_copernicus.sjoin(gdf_malla, how=\"left\")\n",
    "  resultado = interseccion.groupby(\"CODIGO\")[field].apply(lambda x: x.value_counts().idxmax()).reset_index()\n",
    "  resultado = resultado.rename(columns={field: new_field})\n",
    "  return resultado"
   ]
  },
  {
   "cell_type": "code",
   "execution_count": null,
   "id": "1e1c103b-f361-4c4f-a359-5487e1bc56ce",
   "metadata": {},
   "outputs": [],
   "source": [
    "gdf1b = gpd.read_file(path+\"/EMSR703_AOI01_GRA_MONIT01_v2.zip!EMSR703_AOI01_GRA_MONIT01_builtUpA_v2.shp\")\n",
    "gdf2b = gpd.read_file(path+\"/EMSR703_AOI02_GRA_MONIT01_v2.zip!EMSR703_AOI02_GRA_MONIT01_builtUpA_v2.shp\")\n",
    "gdf_built = CopernicusCPV(gpd.GeoDataFrame(pd.concat([gdf1b, gdf2b], ignore_index=True)),\"damage_gra\",\"built\")\n",
    "gdf1f = gpd.read_file(path+\"/EMSR703_AOI01_GRA_MONIT01_v2.zip!EMSR703_AOI01_GRA_MONIT01_observedEventA_v2.shp\")\n",
    "gdf2f = gpd.read_file(path+\"/EMSR703_AOI02_GRA_MONIT01_v2.zip!EMSR703_AOI02_GRA_MONIT01_observedEventA_v2.shp\")\n",
    "gdf_flood = CopernicusCPV(gpd.GeoDataFrame(pd.concat([gdf1f, gdf2f], ignore_index=True)),\"notation\",\"flooded\")\n",
    "gdf1L = gpd.read_file(path+\"/EMSR703_AOI01_GRA_MONIT01_v2.zip!EMSR703_AOI01_GRA_MONIT01_transportationL_v2.shp\")\n",
    "gdf2L = gpd.read_file(path+\"/EMSR703_AOI02_GRA_MONIT01_v2.zip!EMSR703_AOI02_GRA_MONIT01_transportationL_v2.shp\")\n",
    "gdf_transL = CopernicusCPV(gpd.GeoDataFrame(pd.concat([gdf1L, gdf2L], ignore_index=True)),\"damage_gra\",\"transpor\")\n",
    "gdf1p = gpd.read_file(path+\"/EMSR703_AOI01_GRA_MONIT01_v2.zip!EMSR703_AOI01_GRA_MONIT01_transportationP_v2.shp\")\n",
    "gdf2p = gpd.read_file(path+\"/EMSR703_AOI02_GRA_MONIT01_v2.zip!EMSR703_AOI02_GRA_MONIT01_transportationP_v2.shp\")\n",
    "gdf_transp = CopernicusCPV(gpd.GeoDataFrame(pd.concat([gdf1p, gdf2p], ignore_index=True)),\"damage_gra\",\"transpor\")"
   ]
  },
  {
   "cell_type": "code",
   "execution_count": null,
   "id": "f29aa7e2-5ca1-40c1-a7a6-61311732d2bb",
   "metadata": {},
   "outputs": [],
   "source": [
    "gdf_trans = gpd.GeoDataFrame(pd.concat([gdf_transL, gdf_transp], ignore_index=True))\n",
    "gdf_Copern = gdf_built.merge(gdf_flood, on='CODIGO', how='outer').merge(gdf_trans, on='CODIGO', how='outer')"
   ]
  },
  {
   "cell_type": "markdown",
   "id": "fb4854a7-d152-4f98-b3d6-b98f9a3433ca",
   "metadata": {},
   "source": [
    "* DENUE"
   ]
  },
  {
   "cell_type": "code",
   "execution_count": null,
   "id": "d11f206e-ab79-4ad5-82dd-3c4bf9a071c8",
   "metadata": {},
   "outputs": [
    {
     "name": "stdout",
     "output_type": "stream",
     "text": [
      "CPU times: user 1min 43s, sys: 1.5 s, total: 1min 44s\n",
      "Wall time: 1min 44s\n"
     ]
    }
   ],
   "source": [
    "%time gdf_DENUE = gpd.read_file(path+\"/denue_12_shp.zip!conjunto_de_datos/denue_inegi_12_.shp\").to_crs(4326)"
   ]
  },
  {
   "cell_type": "code",
   "execution_count": null,
   "id": "1e3313bb-7e3e-4f3c-9041-94a5c0bab3f8",
   "metadata": {},
   "outputs": [],
   "source": [
    "interseccionDENUE = gpd.sjoin(gdf_DENUE, gdf_malla, how=\"left\")\n",
    "interseccionDENUE['sec']  = interseccionDENUE['codigo_act'].astype(str).str[:2]\n",
    "inter = interseccionDENUE[['sec', 'CODIGO']]\n",
    "gdf_DENUEcount = inter.groupby(['CODIGO', 'sec']).size().reset_index(name='count')\n",
    "gdf_DENUE = gdf_DENUEcount.pivot(index='CODIGO', columns='sec', values='count')\n",
    "gdf_DENUE = gdf_DENUE.fillna(0)"
   ]
  },
  {
   "cell_type": "markdown",
   "id": "19d61c8e-edf6-4bf9-9748-3a586b04eff1",
   "metadata": {},
   "source": [
    "* Charter activations"
   ]
  },
  {
   "cell_type": "code",
   "execution_count": null,
   "id": "5503d5c7-58e9-4ac7-9cc3-00f4a924d40e",
   "metadata": {},
   "outputs": [],
   "source": [
    "gdf_Flooding = gpd.read_file(path+\"/vap-974-1-product.geojson\")\n",
    "intersecFlooding = gpd.sjoin(gdf_Flooding, gdf_malla, how=\"left\")\n",
    "df_CA_Flooding = intersecFlooding.groupby(['CODIGO'])['DN'].count().reset_index(name='CA_flood')"
   ]
  },
  {
   "cell_type": "code",
   "execution_count": null,
   "id": "c5af7070-0548-4ca8-8045-2164c410adcb",
   "metadata": {},
   "outputs": [],
   "source": [
    "gdf_Slides = gpd.read_file(path+\"/GeoJSON-file-for-Landslides-Mexico\")\n",
    "intersecSlides = gpd.sjoin(gdf_Slides, gdf_malla, how=\"left\")\n",
    "df_CA_Slides = intersecSlides.groupby(['CODIGO'])['DN'].count().reset_index(name='CA_Slides')"
   ]
  },
  {
   "cell_type": "markdown",
   "id": "3ba0551b-987e-431e-9586-2e7757208725",
   "metadata": {},
   "source": [
    "## Unir datos con la malla geoestadística\n",
    "Guardamos el resultado en un nuevo archivo Shapefile"
   ]
  },
  {
   "cell_type": "code",
   "execution_count": null,
   "id": "413f10f3-7ece-4be1-b0c7-32f34374c5a3",
   "metadata": {},
   "outputs": [],
   "source": [
    "ret_res1= gdf_malla.merge(gdf_Copern, on='CODIGO')\n",
    "ret_res2= ret_res1.merge(gdf_DENUE, on='CODIGO')\n",
    "ret_res3= ret_res2.merge(df_CA_Flooding, on='CODIGO')\n",
    "ret_res4= ret_res3.merge(df_CA_Slides, on='CODIGO')\n",
    "ret_res4.to_file(\"01_grid/grid_integration.shp\")"
   ]
  },
  {
   "cell_type": "markdown",
   "id": "d67a1174-f786-4ab5-99d6-4461da7d27ca",
   "metadata": {},
   "source": [
    "<div style='background:#4a565e; padding:5px; margin:0'> \n",
    "    <img src=\"https://cienciadedatos.inegi.org.mx/laboratorio/img/icono_lcid.jpg\" alt=\"LCiD\" width=\"30\"/>\n",
    "    <div style=\"color:#ccd6de; float:right\" >\n",
    "        Laboratorio de ciencia de datos y métodos modernos de Producción de información |\n",
    "        <a href=\"mailto:lcid@inegi.org.mx\">lcid@inegi.org.mx</a>\n",
    "    </div>\n",
    "</div>"
   ]
  }
 ],
 "metadata": {
  "availableInstances": [
   {
    "_defaultOrder": 0,
    "_isFastLaunch": true,
    "category": "General purpose",
    "gpuNum": 0,
    "hideHardwareSpecs": false,
    "memoryGiB": 4,
    "name": "ml.t3.medium",
    "vcpuNum": 2
   },
   {
    "_defaultOrder": 1,
    "_isFastLaunch": false,
    "category": "General purpose",
    "gpuNum": 0,
    "hideHardwareSpecs": false,
    "memoryGiB": 8,
    "name": "ml.t3.large",
    "vcpuNum": 2
   },
   {
    "_defaultOrder": 2,
    "_isFastLaunch": false,
    "category": "General purpose",
    "gpuNum": 0,
    "hideHardwareSpecs": false,
    "memoryGiB": 16,
    "name": "ml.t3.xlarge",
    "vcpuNum": 4
   },
   {
    "_defaultOrder": 3,
    "_isFastLaunch": false,
    "category": "General purpose",
    "gpuNum": 0,
    "hideHardwareSpecs": false,
    "memoryGiB": 32,
    "name": "ml.t3.2xlarge",
    "vcpuNum": 8
   },
   {
    "_defaultOrder": 4,
    "_isFastLaunch": true,
    "category": "General purpose",
    "gpuNum": 0,
    "hideHardwareSpecs": false,
    "memoryGiB": 8,
    "name": "ml.m5.large",
    "vcpuNum": 2
   },
   {
    "_defaultOrder": 5,
    "_isFastLaunch": false,
    "category": "General purpose",
    "gpuNum": 0,
    "hideHardwareSpecs": false,
    "memoryGiB": 16,
    "name": "ml.m5.xlarge",
    "vcpuNum": 4
   },
   {
    "_defaultOrder": 6,
    "_isFastLaunch": false,
    "category": "General purpose",
    "gpuNum": 0,
    "hideHardwareSpecs": false,
    "memoryGiB": 32,
    "name": "ml.m5.2xlarge",
    "vcpuNum": 8
   },
   {
    "_defaultOrder": 7,
    "_isFastLaunch": false,
    "category": "General purpose",
    "gpuNum": 0,
    "hideHardwareSpecs": false,
    "memoryGiB": 64,
    "name": "ml.m5.4xlarge",
    "vcpuNum": 16
   },
   {
    "_defaultOrder": 8,
    "_isFastLaunch": false,
    "category": "General purpose",
    "gpuNum": 0,
    "hideHardwareSpecs": false,
    "memoryGiB": 128,
    "name": "ml.m5.8xlarge",
    "vcpuNum": 32
   },
   {
    "_defaultOrder": 9,
    "_isFastLaunch": false,
    "category": "General purpose",
    "gpuNum": 0,
    "hideHardwareSpecs": false,
    "memoryGiB": 192,
    "name": "ml.m5.12xlarge",
    "vcpuNum": 48
   },
   {
    "_defaultOrder": 10,
    "_isFastLaunch": false,
    "category": "General purpose",
    "gpuNum": 0,
    "hideHardwareSpecs": false,
    "memoryGiB": 256,
    "name": "ml.m5.16xlarge",
    "vcpuNum": 64
   },
   {
    "_defaultOrder": 11,
    "_isFastLaunch": false,
    "category": "General purpose",
    "gpuNum": 0,
    "hideHardwareSpecs": false,
    "memoryGiB": 384,
    "name": "ml.m5.24xlarge",
    "vcpuNum": 96
   },
   {
    "_defaultOrder": 12,
    "_isFastLaunch": false,
    "category": "General purpose",
    "gpuNum": 0,
    "hideHardwareSpecs": false,
    "memoryGiB": 8,
    "name": "ml.m5d.large",
    "vcpuNum": 2
   },
   {
    "_defaultOrder": 13,
    "_isFastLaunch": false,
    "category": "General purpose",
    "gpuNum": 0,
    "hideHardwareSpecs": false,
    "memoryGiB": 16,
    "name": "ml.m5d.xlarge",
    "vcpuNum": 4
   },
   {
    "_defaultOrder": 14,
    "_isFastLaunch": false,
    "category": "General purpose",
    "gpuNum": 0,
    "hideHardwareSpecs": false,
    "memoryGiB": 32,
    "name": "ml.m5d.2xlarge",
    "vcpuNum": 8
   },
   {
    "_defaultOrder": 15,
    "_isFastLaunch": false,
    "category": "General purpose",
    "gpuNum": 0,
    "hideHardwareSpecs": false,
    "memoryGiB": 64,
    "name": "ml.m5d.4xlarge",
    "vcpuNum": 16
   },
   {
    "_defaultOrder": 16,
    "_isFastLaunch": false,
    "category": "General purpose",
    "gpuNum": 0,
    "hideHardwareSpecs": false,
    "memoryGiB": 128,
    "name": "ml.m5d.8xlarge",
    "vcpuNum": 32
   },
   {
    "_defaultOrder": 17,
    "_isFastLaunch": false,
    "category": "General purpose",
    "gpuNum": 0,
    "hideHardwareSpecs": false,
    "memoryGiB": 192,
    "name": "ml.m5d.12xlarge",
    "vcpuNum": 48
   },
   {
    "_defaultOrder": 18,
    "_isFastLaunch": false,
    "category": "General purpose",
    "gpuNum": 0,
    "hideHardwareSpecs": false,
    "memoryGiB": 256,
    "name": "ml.m5d.16xlarge",
    "vcpuNum": 64
   },
   {
    "_defaultOrder": 19,
    "_isFastLaunch": false,
    "category": "General purpose",
    "gpuNum": 0,
    "hideHardwareSpecs": false,
    "memoryGiB": 384,
    "name": "ml.m5d.24xlarge",
    "vcpuNum": 96
   },
   {
    "_defaultOrder": 20,
    "_isFastLaunch": false,
    "category": "General purpose",
    "gpuNum": 0,
    "hideHardwareSpecs": true,
    "memoryGiB": 0,
    "name": "ml.geospatial.interactive",
    "supportedImageNames": [
     "sagemaker-geospatial-v1-0"
    ],
    "vcpuNum": 0
   },
   {
    "_defaultOrder": 21,
    "_isFastLaunch": true,
    "category": "Compute optimized",
    "gpuNum": 0,
    "hideHardwareSpecs": false,
    "memoryGiB": 4,
    "name": "ml.c5.large",
    "vcpuNum": 2
   },
   {
    "_defaultOrder": 22,
    "_isFastLaunch": false,
    "category": "Compute optimized",
    "gpuNum": 0,
    "hideHardwareSpecs": false,
    "memoryGiB": 8,
    "name": "ml.c5.xlarge",
    "vcpuNum": 4
   },
   {
    "_defaultOrder": 23,
    "_isFastLaunch": false,
    "category": "Compute optimized",
    "gpuNum": 0,
    "hideHardwareSpecs": false,
    "memoryGiB": 16,
    "name": "ml.c5.2xlarge",
    "vcpuNum": 8
   },
   {
    "_defaultOrder": 24,
    "_isFastLaunch": false,
    "category": "Compute optimized",
    "gpuNum": 0,
    "hideHardwareSpecs": false,
    "memoryGiB": 32,
    "name": "ml.c5.4xlarge",
    "vcpuNum": 16
   },
   {
    "_defaultOrder": 25,
    "_isFastLaunch": false,
    "category": "Compute optimized",
    "gpuNum": 0,
    "hideHardwareSpecs": false,
    "memoryGiB": 72,
    "name": "ml.c5.9xlarge",
    "vcpuNum": 36
   },
   {
    "_defaultOrder": 26,
    "_isFastLaunch": false,
    "category": "Compute optimized",
    "gpuNum": 0,
    "hideHardwareSpecs": false,
    "memoryGiB": 96,
    "name": "ml.c5.12xlarge",
    "vcpuNum": 48
   },
   {
    "_defaultOrder": 27,
    "_isFastLaunch": false,
    "category": "Compute optimized",
    "gpuNum": 0,
    "hideHardwareSpecs": false,
    "memoryGiB": 144,
    "name": "ml.c5.18xlarge",
    "vcpuNum": 72
   },
   {
    "_defaultOrder": 28,
    "_isFastLaunch": false,
    "category": "Compute optimized",
    "gpuNum": 0,
    "hideHardwareSpecs": false,
    "memoryGiB": 192,
    "name": "ml.c5.24xlarge",
    "vcpuNum": 96
   },
   {
    "_defaultOrder": 29,
    "_isFastLaunch": true,
    "category": "Accelerated computing",
    "gpuNum": 1,
    "hideHardwareSpecs": false,
    "memoryGiB": 16,
    "name": "ml.g4dn.xlarge",
    "vcpuNum": 4
   },
   {
    "_defaultOrder": 30,
    "_isFastLaunch": false,
    "category": "Accelerated computing",
    "gpuNum": 1,
    "hideHardwareSpecs": false,
    "memoryGiB": 32,
    "name": "ml.g4dn.2xlarge",
    "vcpuNum": 8
   },
   {
    "_defaultOrder": 31,
    "_isFastLaunch": false,
    "category": "Accelerated computing",
    "gpuNum": 1,
    "hideHardwareSpecs": false,
    "memoryGiB": 64,
    "name": "ml.g4dn.4xlarge",
    "vcpuNum": 16
   },
   {
    "_defaultOrder": 32,
    "_isFastLaunch": false,
    "category": "Accelerated computing",
    "gpuNum": 1,
    "hideHardwareSpecs": false,
    "memoryGiB": 128,
    "name": "ml.g4dn.8xlarge",
    "vcpuNum": 32
   },
   {
    "_defaultOrder": 33,
    "_isFastLaunch": false,
    "category": "Accelerated computing",
    "gpuNum": 4,
    "hideHardwareSpecs": false,
    "memoryGiB": 192,
    "name": "ml.g4dn.12xlarge",
    "vcpuNum": 48
   },
   {
    "_defaultOrder": 34,
    "_isFastLaunch": false,
    "category": "Accelerated computing",
    "gpuNum": 1,
    "hideHardwareSpecs": false,
    "memoryGiB": 256,
    "name": "ml.g4dn.16xlarge",
    "vcpuNum": 64
   },
   {
    "_defaultOrder": 35,
    "_isFastLaunch": false,
    "category": "Accelerated computing",
    "gpuNum": 1,
    "hideHardwareSpecs": false,
    "memoryGiB": 61,
    "name": "ml.p3.2xlarge",
    "vcpuNum": 8
   },
   {
    "_defaultOrder": 36,
    "_isFastLaunch": false,
    "category": "Accelerated computing",
    "gpuNum": 4,
    "hideHardwareSpecs": false,
    "memoryGiB": 244,
    "name": "ml.p3.8xlarge",
    "vcpuNum": 32
   },
   {
    "_defaultOrder": 37,
    "_isFastLaunch": false,
    "category": "Accelerated computing",
    "gpuNum": 8,
    "hideHardwareSpecs": false,
    "memoryGiB": 488,
    "name": "ml.p3.16xlarge",
    "vcpuNum": 64
   },
   {
    "_defaultOrder": 38,
    "_isFastLaunch": false,
    "category": "Accelerated computing",
    "gpuNum": 8,
    "hideHardwareSpecs": false,
    "memoryGiB": 768,
    "name": "ml.p3dn.24xlarge",
    "vcpuNum": 96
   },
   {
    "_defaultOrder": 39,
    "_isFastLaunch": false,
    "category": "Memory Optimized",
    "gpuNum": 0,
    "hideHardwareSpecs": false,
    "memoryGiB": 16,
    "name": "ml.r5.large",
    "vcpuNum": 2
   },
   {
    "_defaultOrder": 40,
    "_isFastLaunch": false,
    "category": "Memory Optimized",
    "gpuNum": 0,
    "hideHardwareSpecs": false,
    "memoryGiB": 32,
    "name": "ml.r5.xlarge",
    "vcpuNum": 4
   },
   {
    "_defaultOrder": 41,
    "_isFastLaunch": false,
    "category": "Memory Optimized",
    "gpuNum": 0,
    "hideHardwareSpecs": false,
    "memoryGiB": 64,
    "name": "ml.r5.2xlarge",
    "vcpuNum": 8
   },
   {
    "_defaultOrder": 42,
    "_isFastLaunch": false,
    "category": "Memory Optimized",
    "gpuNum": 0,
    "hideHardwareSpecs": false,
    "memoryGiB": 128,
    "name": "ml.r5.4xlarge",
    "vcpuNum": 16
   },
   {
    "_defaultOrder": 43,
    "_isFastLaunch": false,
    "category": "Memory Optimized",
    "gpuNum": 0,
    "hideHardwareSpecs": false,
    "memoryGiB": 256,
    "name": "ml.r5.8xlarge",
    "vcpuNum": 32
   },
   {
    "_defaultOrder": 44,
    "_isFastLaunch": false,
    "category": "Memory Optimized",
    "gpuNum": 0,
    "hideHardwareSpecs": false,
    "memoryGiB": 384,
    "name": "ml.r5.12xlarge",
    "vcpuNum": 48
   },
   {
    "_defaultOrder": 45,
    "_isFastLaunch": false,
    "category": "Memory Optimized",
    "gpuNum": 0,
    "hideHardwareSpecs": false,
    "memoryGiB": 512,
    "name": "ml.r5.16xlarge",
    "vcpuNum": 64
   },
   {
    "_defaultOrder": 46,
    "_isFastLaunch": false,
    "category": "Memory Optimized",
    "gpuNum": 0,
    "hideHardwareSpecs": false,
    "memoryGiB": 768,
    "name": "ml.r5.24xlarge",
    "vcpuNum": 96
   },
   {
    "_defaultOrder": 47,
    "_isFastLaunch": false,
    "category": "Accelerated computing",
    "gpuNum": 1,
    "hideHardwareSpecs": false,
    "memoryGiB": 16,
    "name": "ml.g5.xlarge",
    "vcpuNum": 4
   },
   {
    "_defaultOrder": 48,
    "_isFastLaunch": false,
    "category": "Accelerated computing",
    "gpuNum": 1,
    "hideHardwareSpecs": false,
    "memoryGiB": 32,
    "name": "ml.g5.2xlarge",
    "vcpuNum": 8
   },
   {
    "_defaultOrder": 49,
    "_isFastLaunch": false,
    "category": "Accelerated computing",
    "gpuNum": 1,
    "hideHardwareSpecs": false,
    "memoryGiB": 64,
    "name": "ml.g5.4xlarge",
    "vcpuNum": 16
   },
   {
    "_defaultOrder": 50,
    "_isFastLaunch": false,
    "category": "Accelerated computing",
    "gpuNum": 1,
    "hideHardwareSpecs": false,
    "memoryGiB": 128,
    "name": "ml.g5.8xlarge",
    "vcpuNum": 32
   },
   {
    "_defaultOrder": 51,
    "_isFastLaunch": false,
    "category": "Accelerated computing",
    "gpuNum": 1,
    "hideHardwareSpecs": false,
    "memoryGiB": 256,
    "name": "ml.g5.16xlarge",
    "vcpuNum": 64
   },
   {
    "_defaultOrder": 52,
    "_isFastLaunch": false,
    "category": "Accelerated computing",
    "gpuNum": 4,
    "hideHardwareSpecs": false,
    "memoryGiB": 192,
    "name": "ml.g5.12xlarge",
    "vcpuNum": 48
   },
   {
    "_defaultOrder": 53,
    "_isFastLaunch": false,
    "category": "Accelerated computing",
    "gpuNum": 4,
    "hideHardwareSpecs": false,
    "memoryGiB": 384,
    "name": "ml.g5.24xlarge",
    "vcpuNum": 96
   },
   {
    "_defaultOrder": 54,
    "_isFastLaunch": false,
    "category": "Accelerated computing",
    "gpuNum": 8,
    "hideHardwareSpecs": false,
    "memoryGiB": 768,
    "name": "ml.g5.48xlarge",
    "vcpuNum": 192
   },
   {
    "_defaultOrder": 55,
    "_isFastLaunch": false,
    "category": "Accelerated computing",
    "gpuNum": 8,
    "hideHardwareSpecs": false,
    "memoryGiB": 1152,
    "name": "ml.p4d.24xlarge",
    "vcpuNum": 96
   },
   {
    "_defaultOrder": 56,
    "_isFastLaunch": false,
    "category": "Accelerated computing",
    "gpuNum": 8,
    "hideHardwareSpecs": false,
    "memoryGiB": 1152,
    "name": "ml.p4de.24xlarge",
    "vcpuNum": 96
   }
  ],
  "instance_type": "ml.m5d.16xlarge",
  "kernelspec": {
   "display_name": "Python 3 (Data Science 3.0)",
   "language": "python",
   "name": "python3__SAGEMAKER_INTERNAL__arn:aws:sagemaker:us-east-2:429704687514:image/sagemaker-data-science-310-v1"
  },
  "language_info": {
   "codemirror_mode": {
    "name": "ipython",
    "version": 3
   },
   "file_extension": ".py",
   "mimetype": "text/x-python",
   "name": "python",
   "nbconvert_exporter": "python",
   "pygments_lexer": "ipython3",
   "version": "3.10.6"
  }
 },
 "nbformat": 4,
 "nbformat_minor": 5
}
