{
 "cells": [
  {
   "cell_type": "code",
   "execution_count": null,
   "id": "3a5c0ff2-e131-4d9b-9899-39bb98096ab9",
   "metadata": {},
   "outputs": [],
   "source": [
    "!pip install -U duckduckgo_search\n",
    "# Doc: https://pypi.org/project/duckduckgo-search/"
   ]
  },
  {
   "cell_type": "code",
   "execution_count": null,
   "id": "336d09ca-e0a8-4cfd-bd9c-cb64106e47f1",
   "metadata": {},
   "outputs": [],
   "source": [
    "!pip install newspaper3k"
   ]
  },
  {
   "cell_type": "code",
   "execution_count": null,
   "id": "44b87856-f58b-4c72-827b-b90e19ab58fa",
   "metadata": {},
   "outputs": [],
   "source": [
    "!pip install mechanize"
   ]
  },
  {
   "cell_type": "code",
   "execution_count": 2,
   "id": "d1ae01db-369d-4c6f-a0c5-a96c1956c65c",
   "metadata": {},
   "outputs": [],
   "source": [
    "from duckduckgo_search import DDGS\n",
    "from newspaper import Article\n",
    "import json"
   ]
  },
  {
   "cell_type": "code",
   "execution_count": 3,
   "id": "3a731c97-40f4-4c9a-9231-019bfc6e7bd8",
   "metadata": {},
   "outputs": [],
   "source": [
    "from duckduckgo_search import ddg"
   ]
  },
  {
   "cell_type": "code",
   "execution_count": null,
   "id": "5c8e0214-5f46-43e1-a31d-80a0d472f22f",
   "metadata": {},
   "outputs": [],
   "source": [
    "with DDGS() as ddgs:\n",
    "    keywords = '\"huracán otis\"'\n",
    "    ddgs_news_gen = ddgs.text(\n",
    "      keywords,\n",
    "      region=\"mx-es\",\n",
    "      safesearch=\"off\",\n",
    "      backend='lite',\n",
    "      timelimit='m',\n",
    "      max_results=500\n",
    "    )\n",
    "    \n",
    "urls = []  # Inicializamos una lista vacía para almacenar las URLs\n",
    "for r in ddgs_news_gen:\n",
    "    urls.append(r['href'])"
   ]
  },
  {
   "cell_type": "code",
   "execution_count": 21,
   "id": "a3122825-5381-423a-85a1-5938e14514a2",
   "metadata": {},
   "outputs": [],
   "source": [
    "results = ddg('\"huracán otis\"', max_results=100)\n",
    "urls = [result['href'] for result in results]"
   ]
  },
  {
   "cell_type": "code",
   "execution_count": 22,
   "id": "90c62dc7-842d-455d-839a-d8caa9fa810e",
   "metadata": {},
   "outputs": [
    {
     "data": {
      "text/plain": [
       "['https://www.bbc.com/mundo/articles/c807nr77p4xo',\n",
       " 'https://es.wikipedia.org/wiki/Huracán_Otis',\n",
       " 'https://www.bbc.com/mundo/articles/cjl03ep04yyo',\n",
       " 'https://ciencia.nasa.gov/ciencias-terrestres/el-huracan-otis/',\n",
       " 'https://www.cnn.com/videos/spanish/2023/10/25/hurcan-otis-acapulco-orix.cnn',\n",
       " 'https://www.cnn.com/videos/spanish/2023/10/25/otis-huracan-acapulco-guerrero-perspectivas-mexico-tv.cnn',\n",
       " 'https://cnnespanol.cnn.com/2023/10/24/tormenta-tropical-otis-fuerza-huracan-sur-mexico-trax/',\n",
       " 'https://www.bloomberg.com/news/articles/2023-10-25/huracan-otis-azota-mexico-tras-tocar-tierra-cerca-de-acapulco',\n",
       " 'https://edition.cnn.com/videos/spanish/2023/10/31/victimas-huracan-otis-entierro-cuerpos-acapulco-conclusiones-tv.cnn',\n",
       " 'https://cnnespanol.cnn.com/2023/10/27/huracan-otis-danos-noticias-acapulco-mexico-orix-2/',\n",
       " 'https://www.latimes.com/espanol/mexico/articulo/2023-10-29/victimas-por-paso-del-huracan-otis-se-elevan-a-43-en-el-sur-de-mexico-y-los-desaparecidos-suben-a-36',\n",
       " 'https://cnnespanol.cnn.com/2023/10/25/mira-fotos-llegada-huracan-otis-mexico-orix/',\n",
       " 'https://www.cnn.com/videos/spanish/2023/10/30/huracan-otis-acapulco-barcos-redaccion-buenos-aires-tv.cnn',\n",
       " 'https://www.cnn.com/videos/spanish/2023/10/25/sonido-huracan-otis-rafagas-viento-mexico-vo.cnn',\n",
       " 'https://www.latimes.com/espanol/mexico/articulo/2023-10-26/la-angustia-campa-junto-al-lodo-y-el-destrozo-en-acapulco-tras-el-huracan-otis-que-dejo-27-muertos',\n",
       " 'https://www.latimes.com/espanol/mexico/articulo/2023-10-25/otis-toca-tierra-cerca-de-acapulco-mexico-como-un-catastrofico-huracan-de-categoria-5',\n",
       " 'https://apnews.com/climate-and-environment/general-news-abfaff14a3098c7754af17ab548e25a2',\n",
       " 'https://www.univision.com/temas/huracan-otis',\n",
       " 'https://www.eltiempo.com/mundo/mexico/huracan-otis-en-mexico-los-danos-que-dejo-el-paso-del-ciclon-en-acapulco-819560',\n",
       " 'https://www.latimes.com/espanol/mexico/articulo/2023-10-28/suben-a-39-los-fallecidos-a-consecuencia-del-paso-del-huracan-otis-en-el-sur-de-mexico']"
      ]
     },
     "execution_count": 22,
     "metadata": {},
     "output_type": "execute_result"
    }
   ],
   "source": [
    "urls"
   ]
  },
  {
   "cell_type": "code",
   "execution_count": 33,
   "id": "4324e3ee-7659-4e36-8ff1-fca0f3ee2aef",
   "metadata": {},
   "outputs": [
    {
     "name": "stdout",
     "output_type": "stream",
     "text": [
      "https://www.bbc.com/mundo/articles/c807nr77p4xo\n",
      "https://politica.expansion.mx/mexico/2023/11/01/huracan-otis-en-acapulco-una-semana-de-caos-y-angustia\n",
      "https://www.nytimes.com/es/2023/10/30/espanol/acapulco-huracan-otis-refugiados.html\n",
      "https://politica.expansion.mx/estados/2023/10/25/huracan-otis-danos-acapulco\n",
      "https://www.forbes.com.mx/acapulco-lo-que-el-huracan-otis-nos-dice-del-cambio-climatico/\n",
      "https://apnews.com/climate-and-environment/general-news-cf58d435f66705c3584124bab3325293\n",
      "https://mvsnoticias.com/nacional/estados/2023/10/25/huracan-otis-deja-graves-danos-asi-fue-como-toco-tierra-en-acapulco-videos-611879.html\n",
      "https://www.am.com.mx/nacional/2023/10/25/huracan-otis-devasta-al-hotel-princess-de-acapulco-681179.html\n",
      "https://www.bbc.com/mundo/articles/cxw9739pyvjo\n",
      "https://heraldodemexico.com.mx/nacional/2023/10/25/la-devastacion-de-otis-en-imagenes-desde-acapulco-asi-quedo-destruido-549540.html\n",
      "https://elpais.com/mexico/2023-10-28/el-acapulco-arrasado-despues-de-otis.html\n",
      "https://www.telemundo52.com/noticias/mexico/huracan-otis-acapulco-impacto-mexico-destrozos/2518106/\n",
      "https://abcnoticias.mx/nacional/2023/10/25/asi-fue-el-impacto-del-huracan-otis-en-acapulco-guerrero-201362.html\n",
      "https://www.milenio.com/estados/huracan-otis-toca-tierra-guerrero-trayectoria-vivo-25-octubre\n",
      "https://www.poresto.net/republica/2023/10/25/asi-azoto-el-huracan-otis-en-el-puerto-de-acapulco-videos-405652.html\n",
      "https://elpais.com/mexico/2022-05-29/el-huracan-agatha-se-acerca-a-la-costa-de-oaxaca.html\n",
      "https://www.elsoldehermosillo.com.mx/tags/temas/Hurac%C3%A1n_Otis\n",
      "https://www.elpais.com.uy/informacion/huracan-otis-amenaza-mexico\n",
      "https://www.meteored.mx/noticias/prediccion/pronostico-de-la-temporada-de-huracanes-en-el-oceano-pacifico-2021.html\n",
      "https://cnnespanol.cnn.com/2023/10/24/tormenta-tropical-otis-fuerza-huracan-sur-mexico-trax/\n",
      "https://www.bbc.com/mundo/articles/cjl03ep04yyo\n",
      "https://www.bbc.com/mundo/articles/c72rg2g5lyeo\n",
      "https://www.telediario.mx/nacional/huracan-otis-golpea-acapulco-guerrero-fotos-videos\n",
      "https://heraldodemexico.com.mx/nacional/2023/10/24/video-huracan-otis-alcanza-categoria-5-amenaza-acapulco-549506.html\n",
      "https://www.proceso.com.mx/nacional/2023/10/25/huracan-otis-causo-danos-en-hospitales-hoteles-centros-comerciales-de-acapulco-videos-317343.html\n",
      "https://elpais.com/mexico/2023-10-26/acapulco-la-tragedia.html\n",
      "https://www.radioformula.com.mx/nacional/2023/10/25/videos-la-destruccion-de-otis-asi-se-vivio-el-terror-en-acapulco-por-el-huracan-787166.html\n",
      "https://www.nytimes.com/es/2023/10/26/espanol/huracan-otis-que-acapulco-que-paso.html\n",
      "https://elpais.com/mexico/2023-10-27/acapulco-el-antes-y-despues-de-otis.html\n",
      "https://elpais.com/mexico/2023-10-25/el-huracan-otis-en-imagenes.html\n",
      "https://www.msn.com/es-mx/dinero/noticias/hurac%C3%A1n-otis-en-acapulco-sube-a-47-la-cifra-de-muertos/ar-AA1jo7I3\n",
      "https://www.publimetro.com.mx/noticias/2023/10/25/asi-luce-el-puerto-de-acapulco-tras-golpe-de-huracan-otis/\n",
      "http://www.realacapulco.com/noticia/23-8-2010/huracan-amenaza-acapulco\n",
      "https://www.meteored.mx/noticias/prediccion/pronostico-de-temporada-de-huracanes-2021-para-el-atlantico-y-pacifico.html\n",
      "https://www.elsoldehermosillo.com.mx/tags/temas/Hurac%C3%A1n_Otis#!\n",
      "https://www.meteored.mx/clima_Ocuituco-America+Norte-Mexico-Morelos--1-71224.html\n",
      "https://www.elfinanciero.com.mx/estados/2023/11/03/huracan-otis-en-acapulco-sube-a-47-la-cifra-de-muertos-hay-56-personas-desaparecidas/\n",
      "https://www.bbc.com/mundo/articles/c3g3g44zp40o.amp\n",
      "https://cnnespanol.cnn.com/2023/10/25/ultima-hora-huracan-otis-mexico-recorrido-trayectoria-noticias-orix/\n",
      "https://heraldodemexico.com.mx/nacional/2023/10/25/huracan-otis-sigue-en-vivo-el-paso-del-poderoso-fenomeno-en-acapulco-549539.html\n",
      "https://cnnespanol.cnn.com/2023/10/27/huracan-otis-danos-noticias-acapulco-mexico-orix-2/\n",
      "https://www.nytimes.com/es/2023/10/25/espanol/huracan-otis-mexico-acapulco.html\n",
      "https://abcnoticias.mx/nacional/2023/11/3/catalogan-otis-como-el-huracan-mas-fuerte-en-la-historia-del-pacifico-oriental-202130.html\n",
      "https://heraldodemexico.com.mx/nacional/2023/11/2/las-impactantes-imagenes-de-acapulco-una-semana-del-devastador-paso-de-otis-551776.html\n",
      "https://elpais.com/mexico/2023-10-27/exodo-desde-acapulco-tras-el-huracan-otis-el-hotel-nos-aviso-que-ya-no-podia-garantizar-el-agua-ni-la-seguridad.html\n",
      "https://www.tvazteca.com/aztecanoticias/huracan-otis-en-acapulco-ultimas-noticias-hoy-31-octubre-6-dias-la-devastacion\n",
      "https://www.proceso.com.mx/nacional/2023/10/24/el-huracan-otis-se-intensifica-categoria-amenaza-con-golpear-acapulco-317317.html\n",
      "https://www.bbc.com/mundo/articles/c3g3g44zp40o\n",
      "https://hipertextual.com/2023/10/huracan-otis-acapulco-destruccion-mexico\n",
      "https://www.proceso.com.mx/nacional/2023/10/25/huracan-otis-se-debilita-tras-azotar-acapulco-317332.html\n",
      "https://www.bbc.com/mundo/articles/c4n7v5p1n24o\n",
      "https://politica.expansion.mx/estados/2023/10/26/acapulco-municipios-afectados-huracan-otis\n",
      "https://www.eluniversal.com.mx/nacion/huracan-otis-deja-27-muertos-y-4-desaparecidos-en-acapulco/\n"
     ]
    }
   ],
   "source": [
    "import mechanize\n",
    "import re\n",
    "import time\n",
    "\n",
    "def extract_urls(query, num_urls=100):\n",
    "    # Configurar el navegador\n",
    "    br = mechanize.Browser()\n",
    "    br.set_handle_robots(False)  # Ignorar el archivo robots.txt\n",
    "    br.addheaders = [('User-agent', 'Mozilla/5.0')]  # Definir el User-agent\n",
    "\n",
    "    # Abrir DuckDuckGo con parámetros para español (México)\n",
    "    base_url = \"https://html.duckduckgo.com/html/?kl=mx-es\"\n",
    "    br.open(base_url)\n",
    "\n",
    "    # Seleccionar el formulario de búsqueda y enviar la consulta\n",
    "    br.select_form(nr=0)\n",
    "    br[\"q\"] = query\n",
    "    response = br.submit()\n",
    "\n",
    "    urls = set()\n",
    "\n",
    "    # Regex para extraer URLs\n",
    "    link_pattern = re.compile(r'http[s]?://(?:[a-zA-Z]|[0-9]|[$-_@.&+]|[!*\\\\(\\\\),]|(?:%[0-9a-fA-F][0-9a-fA-F]))+')\n",
    "\n",
    "    while len(urls) < num_urls:\n",
    "        # Extraer URLs de la página actual\n",
    "        for link in br.links():\n",
    "            match = link_pattern.match(link.url)\n",
    "            if match and link.url not in urls:  # Verifica si la URL no está ya en el conjunto\n",
    "                urls.add(link.url)\n",
    "                print(link.url)  # Imprime la URL recién agregada\n",
    "                if len(urls) == num_urls:\n",
    "                    return list(urls)\n",
    "        \n",
    "        # Intentar enviar el formulario \"Next\" para la próxima página de resultados\n",
    "        try:\n",
    "            br.select_form(nr=1)\n",
    "            br.submit()\n",
    "        except (mechanize.FormNotFoundError, IndexError):\n",
    "            break\n",
    "\n",
    "        time.sleep(2)\n",
    "\n",
    "    return list(urls)\n",
    "\n",
    "# Prueba\n",
    "#urls = extract_urls('\"El huracán Otis\"')\n",
    "\n",
    "urls = extract_urls('huracán otis acapulco\"')\n"
   ]
  },
  {
   "cell_type": "code",
   "execution_count": null,
   "id": "00f8bf7f-8210-4fbe-8c22-930fa7d5f212",
   "metadata": {},
   "outputs": [],
   "source": []
  },
  {
   "cell_type": "code",
   "execution_count": null,
   "id": "36402526-a239-48b6-accb-a92287fa28fa",
   "metadata": {},
   "outputs": [],
   "source": [
    "for url in results:\n",
    "    print(url)"
   ]
  },
  {
   "cell_type": "code",
   "execution_count": null,
   "id": "66de3425-943d-4210-8870-bf9854e8985f",
   "metadata": {},
   "outputs": [],
   "source": [
    "urls"
   ]
  },
  {
   "cell_type": "code",
   "execution_count": 25,
   "id": "a0ca3489-aafb-4165-97f9-4f9c6877e823",
   "metadata": {},
   "outputs": [],
   "source": [
    "def extract_content_from_url(url):\n",
    "    try:\n",
    "        article = Article(url)\n",
    "        article.download()\n",
    "        article.parse()\n",
    "        return {\n",
    "            \"title\": article.title,\n",
    "            \"content\": article.text,\n",
    "            \"url\": url,\n",
    "            \"date\": article.publish_date.strftime('%Y-%m-%d') if article.publish_date else None,\n",
    "            \"image_url\": article.top_image\n",
    "        }\n",
    "    except Exception as e:\n",
    "        print(f\"Error al extraer contenido de {url}. Error: {e}\")\n",
    "        return None"
   ]
  },
  {
   "cell_type": "code",
   "execution_count": 34,
   "id": "2128bcd2-5aff-4179-9aa2-91567c0e8b4d",
   "metadata": {},
   "outputs": [
    {
     "name": "stdout",
     "output_type": "stream",
     "text": [
      "https://elpais.com/mexico/2023-10-27/acapulco-el-antes-y-despues-de-otis.html\n",
      "https://elpais.com/mexico/2023-10-25/el-huracan-otis-en-imagenes.html\n",
      "https://elpais.com/mexico/2023-10-26/acapulco-la-tragedia.html\n",
      "https://www.bbc.com/mundo/articles/c72rg2g5lyeo\n",
      "https://www.telediario.mx/nacional/huracan-otis-golpea-acapulco-guerrero-fotos-videos\n",
      "Error al extraer contenido de https://www.telediario.mx/nacional/huracan-otis-golpea-acapulco-guerrero-fotos-videos. Error: Article `download()` failed with HTTPSConnectionPool(host='www.telediario.mx', port=443): Read timed out. (read timeout=7) on URL https://www.telediario.mx/nacional/huracan-otis-golpea-acapulco-guerrero-fotos-videos\n",
      "https://www.msn.com/es-mx/dinero/noticias/hurac%C3%A1n-otis-en-acapulco-sube-a-47-la-cifra-de-muertos/ar-AA1jo7I3\n",
      "https://apnews.com/climate-and-environment/general-news-cf58d435f66705c3584124bab3325293\n",
      "https://cnnespanol.cnn.com/2023/10/24/tormenta-tropical-otis-fuerza-huracan-sur-mexico-trax/\n",
      "https://www.poresto.net/republica/2023/10/25/asi-azoto-el-huracan-otis-en-el-puerto-de-acapulco-videos-405652.html\n",
      "https://politica.expansion.mx/estados/2023/10/25/huracan-otis-danos-acapulco\n",
      "https://www.bbc.com/mundo/articles/c4n7v5p1n24o\n",
      "https://politica.expansion.mx/mexico/2023/11/01/huracan-otis-en-acapulco-una-semana-de-caos-y-angustia\n",
      "https://www.publimetro.com.mx/noticias/2023/10/25/asi-luce-el-puerto-de-acapulco-tras-golpe-de-huracan-otis/\n",
      "https://politica.expansion.mx/estados/2023/10/26/acapulco-municipios-afectados-huracan-otis\n",
      "https://heraldodemexico.com.mx/nacional/2023/10/25/huracan-otis-sigue-en-vivo-el-paso-del-poderoso-fenomeno-en-acapulco-549539.html\n",
      "https://www.nytimes.com/es/2023/10/26/espanol/huracan-otis-que-acapulco-que-paso.html\n",
      "https://www.elfinanciero.com.mx/estados/2023/11/03/huracan-otis-en-acapulco-sube-a-47-la-cifra-de-muertos-hay-56-personas-desaparecidas/\n",
      "https://www.proceso.com.mx/nacional/2023/10/25/huracan-otis-se-debilita-tras-azotar-acapulco-317332.html\n",
      "https://hipertextual.com/2023/10/huracan-otis-acapulco-destruccion-mexico\n",
      "https://heraldodemexico.com.mx/nacional/2023/10/24/video-huracan-otis-alcanza-categoria-5-amenaza-acapulco-549506.html\n",
      "https://www.forbes.com.mx/acapulco-lo-que-el-huracan-otis-nos-dice-del-cambio-climatico/\n",
      "https://www.bbc.com/mundo/articles/cjl03ep04yyo\n",
      "https://elpais.com/mexico/2022-05-29/el-huracan-agatha-se-acerca-a-la-costa-de-oaxaca.html\n",
      "https://elpais.com/mexico/2023-10-28/el-acapulco-arrasado-despues-de-otis.html\n",
      "https://www.bbc.com/mundo/articles/c3g3g44zp40o.amp\n",
      "https://www.proceso.com.mx/nacional/2023/10/24/el-huracan-otis-se-intensifica-categoria-amenaza-con-golpear-acapulco-317317.html\n",
      "https://heraldodemexico.com.mx/nacional/2023/10/25/la-devastacion-de-otis-en-imagenes-desde-acapulco-asi-quedo-destruido-549540.html\n",
      "https://www.elsoldehermosillo.com.mx/tags/temas/Hurac%C3%A1n_Otis#!\n",
      "https://www.eluniversal.com.mx/nacion/huracan-otis-deja-27-muertos-y-4-desaparecidos-en-acapulco/\n",
      "https://www.nytimes.com/es/2023/10/30/espanol/acapulco-huracan-otis-refugiados.html\n",
      "http://www.realacapulco.com/noticia/23-8-2010/huracan-amenaza-acapulco\n",
      "https://abcnoticias.mx/nacional/2023/11/3/catalogan-otis-como-el-huracan-mas-fuerte-en-la-historia-del-pacifico-oriental-202130.html\n",
      "https://www.milenio.com/estados/huracan-otis-toca-tierra-guerrero-trayectoria-vivo-25-octubre\n",
      "Error al extraer contenido de https://www.milenio.com/estados/huracan-otis-toca-tierra-guerrero-trayectoria-vivo-25-octubre. Error: Article `download()` failed with HTTPSConnectionPool(host='www.milenio.com', port=443): Read timed out. (read timeout=7) on URL https://www.milenio.com/estados/huracan-otis-toca-tierra-guerrero-trayectoria-vivo-25-octubre\n",
      "https://www.nytimes.com/es/2023/10/25/espanol/huracan-otis-mexico-acapulco.html\n",
      "https://www.bbc.com/mundo/articles/cxw9739pyvjo\n",
      "https://www.bbc.com/mundo/articles/c3g3g44zp40o\n",
      "https://www.bbc.com/mundo/articles/c807nr77p4xo\n",
      "https://www.meteored.mx/noticias/prediccion/pronostico-de-temporada-de-huracanes-2021-para-el-atlantico-y-pacifico.html\n",
      "https://cnnespanol.cnn.com/2023/10/25/ultima-hora-huracan-otis-mexico-recorrido-trayectoria-noticias-orix/\n",
      "https://www.telemundo52.com/noticias/mexico/huracan-otis-acapulco-impacto-mexico-destrozos/2518106/\n",
      "https://www.radioformula.com.mx/nacional/2023/10/25/videos-la-destruccion-de-otis-asi-se-vivio-el-terror-en-acapulco-por-el-huracan-787166.html\n",
      "https://elpais.com/mexico/2023-10-27/exodo-desde-acapulco-tras-el-huracan-otis-el-hotel-nos-aviso-que-ya-no-podia-garantizar-el-agua-ni-la-seguridad.html\n",
      "https://www.meteored.mx/noticias/prediccion/pronostico-de-la-temporada-de-huracanes-en-el-oceano-pacifico-2021.html\n",
      "https://www.am.com.mx/nacional/2023/10/25/huracan-otis-devasta-al-hotel-princess-de-acapulco-681179.html\n",
      "https://heraldodemexico.com.mx/nacional/2023/11/2/las-impactantes-imagenes-de-acapulco-una-semana-del-devastador-paso-de-otis-551776.html\n",
      "https://www.tvazteca.com/aztecanoticias/huracan-otis-en-acapulco-ultimas-noticias-hoy-31-octubre-6-dias-la-devastacion\n",
      "https://www.proceso.com.mx/nacional/2023/10/25/huracan-otis-causo-danos-en-hospitales-hoteles-centros-comerciales-de-acapulco-videos-317343.html\n",
      "https://www.elpais.com.uy/informacion/huracan-otis-amenaza-mexico\n",
      "https://www.elsoldehermosillo.com.mx/tags/temas/Hurac%C3%A1n_Otis\n",
      "https://www.meteored.mx/clima_Ocuituco-America+Norte-Mexico-Morelos--1-71224.html\n",
      "https://mvsnoticias.com/nacional/estados/2023/10/25/huracan-otis-deja-graves-danos-asi-fue-como-toco-tierra-en-acapulco-videos-611879.html\n",
      "https://cnnespanol.cnn.com/2023/10/27/huracan-otis-danos-noticias-acapulco-mexico-orix-2/\n",
      "https://abcnoticias.mx/nacional/2023/10/25/asi-fue-el-impacto-del-huracan-otis-en-acapulco-guerrero-201362.html\n",
      "¡Proceso completado!\n"
     ]
    }
   ],
   "source": [
    "import os\n",
    "\n",
    "# Definimos la ruta del archivo\n",
    "archivo_path = './02_news/noticias_huracan_otis.jsonl'\n",
    "\n",
    "# Diccionario para almacenar las noticias, usando la URL como llave\n",
    "noticias_dict = {}\n",
    "\n",
    "# Si el archivo ya existe, lo leemos para cargar las noticias existentes\n",
    "if os.path.exists(archivo_path):\n",
    "    with open(archivo_path, 'r', encoding='utf-8') as file:\n",
    "        for line in file:\n",
    "            noticia = json.loads(line.strip())\n",
    "            noticias_dict[noticia['url']] = noticia\n",
    "\n",
    "# Procesamos las URLs nuevas\n",
    "for r in urls:\n",
    "    print(r)\n",
    "    if r not in noticias_dict:  # Verificamos que la URL no exista ya en el diccionario\n",
    "        content = extract_content_from_url(r)\n",
    "        if content:\n",
    "            noticias_dict[content['url']] = content  # Agregamos la noticia al diccionario\n",
    "\n",
    "# Guardamos las noticias (tanto las antiguas como las nuevas) en el archivo\n",
    "with open(archivo_path, 'w', encoding='utf-8') as file:\n",
    "    for noticia in noticias_dict.values():\n",
    "        file.write(json.dumps(noticia, ensure_ascii=False) + '\\n')\n",
    "\n",
    "print(\"¡Proceso completado!\")\n"
   ]
  },
  {
   "cell_type": "code",
   "execution_count": null,
   "id": "2f586558-ce61-4b6f-a693-5b70a81652af",
   "metadata": {},
   "outputs": [],
   "source": []
  }
 ],
 "metadata": {
  "availableInstances": [
   {
    "_defaultOrder": 0,
    "_isFastLaunch": true,
    "category": "General purpose",
    "gpuNum": 0,
    "hideHardwareSpecs": false,
    "memoryGiB": 4,
    "name": "ml.t3.medium",
    "vcpuNum": 2
   },
   {
    "_defaultOrder": 1,
    "_isFastLaunch": false,
    "category": "General purpose",
    "gpuNum": 0,
    "hideHardwareSpecs": false,
    "memoryGiB": 8,
    "name": "ml.t3.large",
    "vcpuNum": 2
   },
   {
    "_defaultOrder": 2,
    "_isFastLaunch": false,
    "category": "General purpose",
    "gpuNum": 0,
    "hideHardwareSpecs": false,
    "memoryGiB": 16,
    "name": "ml.t3.xlarge",
    "vcpuNum": 4
   },
   {
    "_defaultOrder": 3,
    "_isFastLaunch": false,
    "category": "General purpose",
    "gpuNum": 0,
    "hideHardwareSpecs": false,
    "memoryGiB": 32,
    "name": "ml.t3.2xlarge",
    "vcpuNum": 8
   },
   {
    "_defaultOrder": 4,
    "_isFastLaunch": true,
    "category": "General purpose",
    "gpuNum": 0,
    "hideHardwareSpecs": false,
    "memoryGiB": 8,
    "name": "ml.m5.large",
    "vcpuNum": 2
   },
   {
    "_defaultOrder": 5,
    "_isFastLaunch": false,
    "category": "General purpose",
    "gpuNum": 0,
    "hideHardwareSpecs": false,
    "memoryGiB": 16,
    "name": "ml.m5.xlarge",
    "vcpuNum": 4
   },
   {
    "_defaultOrder": 6,
    "_isFastLaunch": false,
    "category": "General purpose",
    "gpuNum": 0,
    "hideHardwareSpecs": false,
    "memoryGiB": 32,
    "name": "ml.m5.2xlarge",
    "vcpuNum": 8
   },
   {
    "_defaultOrder": 7,
    "_isFastLaunch": false,
    "category": "General purpose",
    "gpuNum": 0,
    "hideHardwareSpecs": false,
    "memoryGiB": 64,
    "name": "ml.m5.4xlarge",
    "vcpuNum": 16
   },
   {
    "_defaultOrder": 8,
    "_isFastLaunch": false,
    "category": "General purpose",
    "gpuNum": 0,
    "hideHardwareSpecs": false,
    "memoryGiB": 128,
    "name": "ml.m5.8xlarge",
    "vcpuNum": 32
   },
   {
    "_defaultOrder": 9,
    "_isFastLaunch": false,
    "category": "General purpose",
    "gpuNum": 0,
    "hideHardwareSpecs": false,
    "memoryGiB": 192,
    "name": "ml.m5.12xlarge",
    "vcpuNum": 48
   },
   {
    "_defaultOrder": 10,
    "_isFastLaunch": false,
    "category": "General purpose",
    "gpuNum": 0,
    "hideHardwareSpecs": false,
    "memoryGiB": 256,
    "name": "ml.m5.16xlarge",
    "vcpuNum": 64
   },
   {
    "_defaultOrder": 11,
    "_isFastLaunch": false,
    "category": "General purpose",
    "gpuNum": 0,
    "hideHardwareSpecs": false,
    "memoryGiB": 384,
    "name": "ml.m5.24xlarge",
    "vcpuNum": 96
   },
   {
    "_defaultOrder": 12,
    "_isFastLaunch": false,
    "category": "General purpose",
    "gpuNum": 0,
    "hideHardwareSpecs": false,
    "memoryGiB": 8,
    "name": "ml.m5d.large",
    "vcpuNum": 2
   },
   {
    "_defaultOrder": 13,
    "_isFastLaunch": false,
    "category": "General purpose",
    "gpuNum": 0,
    "hideHardwareSpecs": false,
    "memoryGiB": 16,
    "name": "ml.m5d.xlarge",
    "vcpuNum": 4
   },
   {
    "_defaultOrder": 14,
    "_isFastLaunch": false,
    "category": "General purpose",
    "gpuNum": 0,
    "hideHardwareSpecs": false,
    "memoryGiB": 32,
    "name": "ml.m5d.2xlarge",
    "vcpuNum": 8
   },
   {
    "_defaultOrder": 15,
    "_isFastLaunch": false,
    "category": "General purpose",
    "gpuNum": 0,
    "hideHardwareSpecs": false,
    "memoryGiB": 64,
    "name": "ml.m5d.4xlarge",
    "vcpuNum": 16
   },
   {
    "_defaultOrder": 16,
    "_isFastLaunch": false,
    "category": "General purpose",
    "gpuNum": 0,
    "hideHardwareSpecs": false,
    "memoryGiB": 128,
    "name": "ml.m5d.8xlarge",
    "vcpuNum": 32
   },
   {
    "_defaultOrder": 17,
    "_isFastLaunch": false,
    "category": "General purpose",
    "gpuNum": 0,
    "hideHardwareSpecs": false,
    "memoryGiB": 192,
    "name": "ml.m5d.12xlarge",
    "vcpuNum": 48
   },
   {
    "_defaultOrder": 18,
    "_isFastLaunch": false,
    "category": "General purpose",
    "gpuNum": 0,
    "hideHardwareSpecs": false,
    "memoryGiB": 256,
    "name": "ml.m5d.16xlarge",
    "vcpuNum": 64
   },
   {
    "_defaultOrder": 19,
    "_isFastLaunch": false,
    "category": "General purpose",
    "gpuNum": 0,
    "hideHardwareSpecs": false,
    "memoryGiB": 384,
    "name": "ml.m5d.24xlarge",
    "vcpuNum": 96
   },
   {
    "_defaultOrder": 20,
    "_isFastLaunch": false,
    "category": "General purpose",
    "gpuNum": 0,
    "hideHardwareSpecs": true,
    "memoryGiB": 0,
    "name": "ml.geospatial.interactive",
    "supportedImageNames": [
     "sagemaker-geospatial-v1-0"
    ],
    "vcpuNum": 0
   },
   {
    "_defaultOrder": 21,
    "_isFastLaunch": true,
    "category": "Compute optimized",
    "gpuNum": 0,
    "hideHardwareSpecs": false,
    "memoryGiB": 4,
    "name": "ml.c5.large",
    "vcpuNum": 2
   },
   {
    "_defaultOrder": 22,
    "_isFastLaunch": false,
    "category": "Compute optimized",
    "gpuNum": 0,
    "hideHardwareSpecs": false,
    "memoryGiB": 8,
    "name": "ml.c5.xlarge",
    "vcpuNum": 4
   },
   {
    "_defaultOrder": 23,
    "_isFastLaunch": false,
    "category": "Compute optimized",
    "gpuNum": 0,
    "hideHardwareSpecs": false,
    "memoryGiB": 16,
    "name": "ml.c5.2xlarge",
    "vcpuNum": 8
   },
   {
    "_defaultOrder": 24,
    "_isFastLaunch": false,
    "category": "Compute optimized",
    "gpuNum": 0,
    "hideHardwareSpecs": false,
    "memoryGiB": 32,
    "name": "ml.c5.4xlarge",
    "vcpuNum": 16
   },
   {
    "_defaultOrder": 25,
    "_isFastLaunch": false,
    "category": "Compute optimized",
    "gpuNum": 0,
    "hideHardwareSpecs": false,
    "memoryGiB": 72,
    "name": "ml.c5.9xlarge",
    "vcpuNum": 36
   },
   {
    "_defaultOrder": 26,
    "_isFastLaunch": false,
    "category": "Compute optimized",
    "gpuNum": 0,
    "hideHardwareSpecs": false,
    "memoryGiB": 96,
    "name": "ml.c5.12xlarge",
    "vcpuNum": 48
   },
   {
    "_defaultOrder": 27,
    "_isFastLaunch": false,
    "category": "Compute optimized",
    "gpuNum": 0,
    "hideHardwareSpecs": false,
    "memoryGiB": 144,
    "name": "ml.c5.18xlarge",
    "vcpuNum": 72
   },
   {
    "_defaultOrder": 28,
    "_isFastLaunch": false,
    "category": "Compute optimized",
    "gpuNum": 0,
    "hideHardwareSpecs": false,
    "memoryGiB": 192,
    "name": "ml.c5.24xlarge",
    "vcpuNum": 96
   },
   {
    "_defaultOrder": 29,
    "_isFastLaunch": true,
    "category": "Accelerated computing",
    "gpuNum": 1,
    "hideHardwareSpecs": false,
    "memoryGiB": 16,
    "name": "ml.g4dn.xlarge",
    "vcpuNum": 4
   },
   {
    "_defaultOrder": 30,
    "_isFastLaunch": false,
    "category": "Accelerated computing",
    "gpuNum": 1,
    "hideHardwareSpecs": false,
    "memoryGiB": 32,
    "name": "ml.g4dn.2xlarge",
    "vcpuNum": 8
   },
   {
    "_defaultOrder": 31,
    "_isFastLaunch": false,
    "category": "Accelerated computing",
    "gpuNum": 1,
    "hideHardwareSpecs": false,
    "memoryGiB": 64,
    "name": "ml.g4dn.4xlarge",
    "vcpuNum": 16
   },
   {
    "_defaultOrder": 32,
    "_isFastLaunch": false,
    "category": "Accelerated computing",
    "gpuNum": 1,
    "hideHardwareSpecs": false,
    "memoryGiB": 128,
    "name": "ml.g4dn.8xlarge",
    "vcpuNum": 32
   },
   {
    "_defaultOrder": 33,
    "_isFastLaunch": false,
    "category": "Accelerated computing",
    "gpuNum": 4,
    "hideHardwareSpecs": false,
    "memoryGiB": 192,
    "name": "ml.g4dn.12xlarge",
    "vcpuNum": 48
   },
   {
    "_defaultOrder": 34,
    "_isFastLaunch": false,
    "category": "Accelerated computing",
    "gpuNum": 1,
    "hideHardwareSpecs": false,
    "memoryGiB": 256,
    "name": "ml.g4dn.16xlarge",
    "vcpuNum": 64
   },
   {
    "_defaultOrder": 35,
    "_isFastLaunch": false,
    "category": "Accelerated computing",
    "gpuNum": 1,
    "hideHardwareSpecs": false,
    "memoryGiB": 61,
    "name": "ml.p3.2xlarge",
    "vcpuNum": 8
   },
   {
    "_defaultOrder": 36,
    "_isFastLaunch": false,
    "category": "Accelerated computing",
    "gpuNum": 4,
    "hideHardwareSpecs": false,
    "memoryGiB": 244,
    "name": "ml.p3.8xlarge",
    "vcpuNum": 32
   },
   {
    "_defaultOrder": 37,
    "_isFastLaunch": false,
    "category": "Accelerated computing",
    "gpuNum": 8,
    "hideHardwareSpecs": false,
    "memoryGiB": 488,
    "name": "ml.p3.16xlarge",
    "vcpuNum": 64
   },
   {
    "_defaultOrder": 38,
    "_isFastLaunch": false,
    "category": "Accelerated computing",
    "gpuNum": 8,
    "hideHardwareSpecs": false,
    "memoryGiB": 768,
    "name": "ml.p3dn.24xlarge",
    "vcpuNum": 96
   },
   {
    "_defaultOrder": 39,
    "_isFastLaunch": false,
    "category": "Memory Optimized",
    "gpuNum": 0,
    "hideHardwareSpecs": false,
    "memoryGiB": 16,
    "name": "ml.r5.large",
    "vcpuNum": 2
   },
   {
    "_defaultOrder": 40,
    "_isFastLaunch": false,
    "category": "Memory Optimized",
    "gpuNum": 0,
    "hideHardwareSpecs": false,
    "memoryGiB": 32,
    "name": "ml.r5.xlarge",
    "vcpuNum": 4
   },
   {
    "_defaultOrder": 41,
    "_isFastLaunch": false,
    "category": "Memory Optimized",
    "gpuNum": 0,
    "hideHardwareSpecs": false,
    "memoryGiB": 64,
    "name": "ml.r5.2xlarge",
    "vcpuNum": 8
   },
   {
    "_defaultOrder": 42,
    "_isFastLaunch": false,
    "category": "Memory Optimized",
    "gpuNum": 0,
    "hideHardwareSpecs": false,
    "memoryGiB": 128,
    "name": "ml.r5.4xlarge",
    "vcpuNum": 16
   },
   {
    "_defaultOrder": 43,
    "_isFastLaunch": false,
    "category": "Memory Optimized",
    "gpuNum": 0,
    "hideHardwareSpecs": false,
    "memoryGiB": 256,
    "name": "ml.r5.8xlarge",
    "vcpuNum": 32
   },
   {
    "_defaultOrder": 44,
    "_isFastLaunch": false,
    "category": "Memory Optimized",
    "gpuNum": 0,
    "hideHardwareSpecs": false,
    "memoryGiB": 384,
    "name": "ml.r5.12xlarge",
    "vcpuNum": 48
   },
   {
    "_defaultOrder": 45,
    "_isFastLaunch": false,
    "category": "Memory Optimized",
    "gpuNum": 0,
    "hideHardwareSpecs": false,
    "memoryGiB": 512,
    "name": "ml.r5.16xlarge",
    "vcpuNum": 64
   },
   {
    "_defaultOrder": 46,
    "_isFastLaunch": false,
    "category": "Memory Optimized",
    "gpuNum": 0,
    "hideHardwareSpecs": false,
    "memoryGiB": 768,
    "name": "ml.r5.24xlarge",
    "vcpuNum": 96
   },
   {
    "_defaultOrder": 47,
    "_isFastLaunch": false,
    "category": "Accelerated computing",
    "gpuNum": 1,
    "hideHardwareSpecs": false,
    "memoryGiB": 16,
    "name": "ml.g5.xlarge",
    "vcpuNum": 4
   },
   {
    "_defaultOrder": 48,
    "_isFastLaunch": false,
    "category": "Accelerated computing",
    "gpuNum": 1,
    "hideHardwareSpecs": false,
    "memoryGiB": 32,
    "name": "ml.g5.2xlarge",
    "vcpuNum": 8
   },
   {
    "_defaultOrder": 49,
    "_isFastLaunch": false,
    "category": "Accelerated computing",
    "gpuNum": 1,
    "hideHardwareSpecs": false,
    "memoryGiB": 64,
    "name": "ml.g5.4xlarge",
    "vcpuNum": 16
   },
   {
    "_defaultOrder": 50,
    "_isFastLaunch": false,
    "category": "Accelerated computing",
    "gpuNum": 1,
    "hideHardwareSpecs": false,
    "memoryGiB": 128,
    "name": "ml.g5.8xlarge",
    "vcpuNum": 32
   },
   {
    "_defaultOrder": 51,
    "_isFastLaunch": false,
    "category": "Accelerated computing",
    "gpuNum": 1,
    "hideHardwareSpecs": false,
    "memoryGiB": 256,
    "name": "ml.g5.16xlarge",
    "vcpuNum": 64
   },
   {
    "_defaultOrder": 52,
    "_isFastLaunch": false,
    "category": "Accelerated computing",
    "gpuNum": 4,
    "hideHardwareSpecs": false,
    "memoryGiB": 192,
    "name": "ml.g5.12xlarge",
    "vcpuNum": 48
   },
   {
    "_defaultOrder": 53,
    "_isFastLaunch": false,
    "category": "Accelerated computing",
    "gpuNum": 4,
    "hideHardwareSpecs": false,
    "memoryGiB": 384,
    "name": "ml.g5.24xlarge",
    "vcpuNum": 96
   },
   {
    "_defaultOrder": 54,
    "_isFastLaunch": false,
    "category": "Accelerated computing",
    "gpuNum": 8,
    "hideHardwareSpecs": false,
    "memoryGiB": 768,
    "name": "ml.g5.48xlarge",
    "vcpuNum": 192
   },
   {
    "_defaultOrder": 55,
    "_isFastLaunch": false,
    "category": "Accelerated computing",
    "gpuNum": 8,
    "hideHardwareSpecs": false,
    "memoryGiB": 1152,
    "name": "ml.p4d.24xlarge",
    "vcpuNum": 96
   },
   {
    "_defaultOrder": 56,
    "_isFastLaunch": false,
    "category": "Accelerated computing",
    "gpuNum": 8,
    "hideHardwareSpecs": false,
    "memoryGiB": 1152,
    "name": "ml.p4de.24xlarge",
    "vcpuNum": 96
   }
  ],
  "instance_type": "ml.t3.medium",
  "kernelspec": {
   "display_name": "Python 3 (Data Science 3.0)",
   "language": "python",
   "name": "python3__SAGEMAKER_INTERNAL__arn:aws:sagemaker:us-east-2:429704687514:image/sagemaker-data-science-310-v1"
  },
  "language_info": {
   "codemirror_mode": {
    "name": "ipython",
    "version": 3
   },
   "file_extension": ".py",
   "mimetype": "text/x-python",
   "name": "python",
   "nbconvert_exporter": "python",
   "pygments_lexer": "ipython3",
   "version": "3.10.6"
  }
 },
 "nbformat": 4,
 "nbformat_minor": 5
}
